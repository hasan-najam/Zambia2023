{
 "cells": [
  {
   "cell_type": "markdown",
   "metadata": {},
   "source": [
    "# astropy Tutorial forZambia workshop\n",
    "\n"
   ]
  },
  {
   "cell_type": "markdown",
   "metadata": {},
   "source": [
    "## What is Astropy?\n",
    "\n",
    "  ### A single core package for Astronomy in Python\n",
    "\n",
    "#### Astropy package is structured into several submodules** and we will cover some of the important pnes:\n",
    "\n",
    "1. [astropy.units] to do astronomical calculations with units.\n",
    "\n",
    "2. [astropy.coordinates] to handle astronomical sky positions, coordinate systems and coordinate transformations.\n",
    "\n",
    "3. [astropy.tables] to handle astronomical data tables.\n",
    "\n",
    "4. [astropy.io.fits] to open and write data files in [FITS format].\n",
    "\n",
    "\n",
    "## Other Resources\n",
    "\n",
    "There are other ressources with Astropy tutorials, we can recommend:\n",
    "\n",
    "- [Learn.Astropy](http://learn.astropy.org) webpage with a lot of tutorial material.\n",
    "- [Astropy documentation](http://docs.astropy.org) webpage, with lots of small usage examples.\n",
    "- [Astropy Tutorials](https://github.com/astropy/astropy-tutorials) repository (same as linked on Learn.Astropy)\n",
    "- [Astropy workshop](https://github.com/astropy/astropy-workshop) held the AAS meeting 2019. \n",
    "- [STAK project](https://stak-notebooks.readthedocs.io/en/latest/) provided by STSci, with tutorial notebooks for typical IRAF analysis tasks. \n",
    "- [Webinar on Youtube](https://www.youtube.com/watch?v=YP42k3J08_o&list=PL7kL5D8ITGyV7zeT-oADweFKHsZNh3tKV) provided by Astronomy Data and Computing Services (ADACS). "
   ]
  },
  {
   "cell_type": "markdown",
   "metadata": {},
   "source": [
    "## 0. Setup\n",
    "\n",
    "Check package versions. All examples should work with Astropy > 2.0 and Numpy > 1.11"
   ]
  },
  {
   "cell_type": "code",
   "execution_count": 1,
   "metadata": {},
   "outputs": [],
   "source": [
    "%matplotlib inline  \n",
    "import matplotlib.pyplot as plt"
   ]
  },
  {
   "cell_type": "code",
   "execution_count": 2,
   "metadata": {},
   "outputs": [
    {
     "name": "stdout",
     "output_type": "stream",
     "text": [
      "numpy: 1.22.4\n",
      "astropy: 5.0.4\n"
     ]
    }
   ],
   "source": [
    "import numpy as np\n",
    "import astropy\n",
    "print('numpy:', np.__version__)\n",
    "print('astropy:', astropy.__version__)"
   ]
  },
  {
   "cell_type": "markdown",
   "metadata": {},
   "source": [
    "## 1. Units and Quantities\n",
    "\n",
    "The [astropy.units]() subpackage provides functions and classes to handle physical quantities with units. \n",
    "\n",
    "import the `astropy.units` : "
   ]
  },
  {
   "cell_type": "code",
   "execution_count": 3,
   "metadata": {},
   "outputs": [],
   "source": [
    "from astropy import units as u"
   ]
  },
  {
   "cell_type": "markdown",
   "metadata": {},
   "source": [
    "`Quantities` are created by multiplying any number with a unit object:"
   ]
  },
  {
   "cell_type": "code",
   "execution_count": 4,
   "metadata": {},
   "outputs": [
    {
     "data": {
      "text/latex": [
       "$1 \\; \\mathrm{AU}$"
      ],
      "text/plain": [
       "<Quantity 1. AU>"
      ]
     },
     "execution_count": 4,
     "metadata": {},
     "output_type": "execute_result"
    }
   ],
   "source": [
    "distance1=1.* u.AU\n",
    "distance1"
   ]
  },
  {
   "cell_type": "markdown",
   "metadata": {},
   "source": [
    "Check the availabe units with tab completion on the units module, `u.<TAB>`."
   ]
  },
  {
   "cell_type": "code",
   "execution_count": 5,
   "metadata": {},
   "outputs": [
    {
     "name": "stdout",
     "output_type": "stream",
     "text": [
      "1.0 lyr\n"
     ]
    }
   ],
   "source": [
    "distance2 = 1. * u.lightyear\n",
    "print(distance2)"
   ]
  },
  {
   "cell_type": "code",
   "execution_count": 6,
   "metadata": {},
   "outputs": [
    {
     "data": {
      "text/latex": [
       "$9.4607305 \\times 10^{15} \\; \\mathrm{m}$"
      ],
      "text/plain": [
       "<Quantity 9.46073047e+15 m>"
      ]
     },
     "execution_count": 6,
     "metadata": {},
     "output_type": "execute_result"
    }
   ],
   "source": [
    "distance2.to('meter')"
   ]
  },
  {
   "cell_type": "code",
   "execution_count": 7,
   "metadata": {},
   "outputs": [
    {
     "data": {
      "text/latex": [
       "$9.4607305 \\times 10^{17} \\; \\mathrm{cm}$"
      ],
      "text/plain": [
       "<Quantity 9.46073047e+17 cm>"
      ]
     },
     "execution_count": 7,
     "metadata": {},
     "output_type": "execute_result"
    }
   ],
   "source": [
    "distance2.to('centimeter')"
   ]
  },
  {
   "cell_type": "code",
   "execution_count": 8,
   "metadata": {},
   "outputs": [
    {
     "data": {
      "text/latex": [
       "$\\mathrm{pc}$"
      ],
      "text/plain": [
       "Unit(\"pc\")"
      ]
     },
     "execution_count": 8,
     "metadata": {},
     "output_type": "execute_result"
    }
   ],
   "source": [
    "u.parsec"
   ]
  },
  {
   "cell_type": "code",
   "execution_count": 9,
   "metadata": {},
   "outputs": [],
   "source": [
    "distance=1*u.parsec"
   ]
  },
  {
   "cell_type": "code",
   "execution_count": 10,
   "metadata": {},
   "outputs": [
    {
     "data": {
      "text/latex": [
       "$3.0856776 \\times 10^{16} \\; \\mathrm{m}$"
      ],
      "text/plain": [
       "<Quantity 3.08567758e+16 m>"
      ]
     },
     "execution_count": 10,
     "metadata": {},
     "output_type": "execute_result"
    }
   ],
   "source": [
    "distance.to('meter')"
   ]
  },
  {
   "cell_type": "code",
   "execution_count": 11,
   "metadata": {},
   "outputs": [
    {
     "data": {
      "text/latex": [
       "$3.0856776 \\times 10^{16} \\; \\mathrm{m}$"
      ],
      "text/plain": [
       "<Quantity 3.08567758e+16 m>"
      ]
     },
     "execution_count": 11,
     "metadata": {},
     "output_type": "execute_result"
    }
   ],
   "source": [
    "distance.to(u.meter)"
   ]
  },
  {
   "cell_type": "code",
   "execution_count": 12,
   "metadata": {},
   "outputs": [
    {
     "data": {
      "text/latex": [
       "$3.2615638 \\; \\mathrm{lyr}$"
      ],
      "text/plain": [
       "<Quantity 3.26156378 lyr>"
      ]
     },
     "execution_count": 12,
     "metadata": {},
     "output_type": "execute_result"
    }
   ],
   "source": [
    "distance.to(u.lightyear)"
   ]
  },
  {
   "cell_type": "code",
   "execution_count": 13,
   "metadata": {},
   "outputs": [
    {
     "data": {
      "text/latex": [
       "$1 \\; \\mathrm{pc}$"
      ],
      "text/plain": [
       "<Quantity 1. pc>"
      ]
     },
     "execution_count": 13,
     "metadata": {},
     "output_type": "execute_result"
    }
   ],
   "source": [
    "distance.to(u.parsec)"
   ]
  },
  {
   "cell_type": "code",
   "execution_count": 14,
   "metadata": {},
   "outputs": [],
   "source": [
    "distance1=1.* u.parsec"
   ]
  },
  {
   "cell_type": "code",
   "execution_count": 15,
   "metadata": {},
   "outputs": [
    {
     "data": {
      "text/latex": [
       "$3.2615638 \\; \\mathrm{lyr}$"
      ],
      "text/plain": [
       "<Quantity 3.26156378 lyr>"
      ]
     },
     "execution_count": 15,
     "metadata": {},
     "output_type": "execute_result"
    }
   ],
   "source": [
    "distance1.to(u.lightyear)"
   ]
  },
  {
   "cell_type": "code",
   "execution_count": 16,
   "metadata": {},
   "outputs": [
    {
     "data": {
      "text/latex": [
       "$3.2615638 \\; \\mathrm{lyr}$"
      ],
      "text/plain": [
       "<Quantity 3.26156378 lyr>"
      ]
     },
     "execution_count": 16,
     "metadata": {},
     "output_type": "execute_result"
    }
   ],
   "source": [
    "distance1.to('lightyear')"
   ]
  },
  {
   "cell_type": "code",
   "execution_count": 17,
   "metadata": {},
   "outputs": [
    {
     "data": {
      "text/latex": [
       "$0.30660139 \\; \\mathrm{pc}$"
      ],
      "text/plain": [
       "<Quantity 0.30660139 pc>"
      ]
     },
     "execution_count": 17,
     "metadata": {},
     "output_type": "execute_result"
    }
   ],
   "source": [
    "distance2.to('parsec')"
   ]
  },
  {
   "cell_type": "markdown",
   "metadata": {},
   "source": [
    "Or by passing a string to the general `Quantity` object:"
   ]
  },
  {
   "cell_type": "code",
   "execution_count": 18,
   "metadata": {},
   "outputs": [
    {
     "data": {
      "text/latex": [
       "$1 \\; \\mathrm{lyr}$"
      ],
      "text/plain": [
       "<Quantity 1. lyr>"
      ]
     },
     "execution_count": 18,
     "metadata": {},
     "output_type": "execute_result"
    }
   ],
   "source": [
    "distance = 1*u.lightyear\n",
    "distance"
   ]
  },
  {
   "cell_type": "markdown",
   "metadata": {},
   "source": [
    "Quantities can be combined with any arithmetical expression to derive other quantities, `astropy.units` will propagate\n",
    "the units correctly:"
   ]
  },
  {
   "cell_type": "code",
   "execution_count": 19,
   "metadata": {},
   "outputs": [
    {
     "name": "stdout",
     "output_type": "stream",
     "text": [
      "299792.458 km / s\n"
     ]
    }
   ],
   "source": [
    "speed_of_light = distance / u.year\n",
    "print(speed_of_light.to('km/s'))"
   ]
  },
  {
   "cell_type": "code",
   "execution_count": 20,
   "metadata": {},
   "outputs": [
    {
     "name": "stdout",
     "output_type": "stream",
     "text": [
      "2.5902068371199996e+23 Angstrom / d\n"
     ]
    }
   ],
   "source": [
    "print(speed_of_light.to('angstrom/day'))"
   ]
  },
  {
   "cell_type": "code",
   "execution_count": 22,
   "metadata": {},
   "outputs": [
    {
     "data": {
      "text/plain": [
       "astropy.units.quantity.Quantity"
      ]
     },
     "execution_count": 22,
     "metadata": {},
     "output_type": "execute_result"
    }
   ],
   "source": [
    "type(distance)"
   ]
  },
  {
   "cell_type": "markdown",
   "metadata": {},
   "source": [
    "Quantities can be also created using lists and arrays:"
   ]
  },
  {
   "cell_type": "code",
   "execution_count": 23,
   "metadata": {},
   "outputs": [
    {
     "name": "stdout",
     "output_type": "stream",
     "text": [
      "[ 1.  6. 10.] lyr\n"
     ]
    }
   ],
   "source": [
    "distances = [1, 6, 10] * u.lightyear\n",
    "print(distances)"
   ]
  },
  {
   "cell_type": "code",
   "execution_count": 24,
   "metadata": {},
   "outputs": [
    {
     "data": {
      "text/plain": [
       "astropy.units.quantity.Quantity"
      ]
     },
     "execution_count": 24,
     "metadata": {},
     "output_type": "execute_result"
    }
   ],
   "source": [
    "type(distances)"
   ]
  },
  {
   "cell_type": "code",
   "execution_count": 25,
   "metadata": {},
   "outputs": [
    {
     "name": "stdout",
     "output_type": "stream",
     "text": [
      "[ 1.  6. 10.] lyr\n"
     ]
    }
   ],
   "source": [
    "distances2 = np.array([1, 6, 10]) * u.lightyear\n",
    "print(distances2)"
   ]
  },
  {
   "cell_type": "code",
   "execution_count": 26,
   "metadata": {},
   "outputs": [
    {
     "data": {
      "text/plain": [
       "array([ 1.,  6., 10.])"
      ]
     },
     "execution_count": 26,
     "metadata": {},
     "output_type": "execute_result"
    }
   ],
   "source": [
    "distances.value"
   ]
  },
  {
   "cell_type": "markdown",
   "metadata": {},
   "source": [
    "The quantity object has a value attribute, which is a plain `numpy.ndarray`:"
   ]
  },
  {
   "cell_type": "code",
   "execution_count": 27,
   "metadata": {},
   "outputs": [
    {
     "data": {
      "text/plain": [
       "numpy.ndarray"
      ]
     },
     "execution_count": 27,
     "metadata": {},
     "output_type": "execute_result"
    }
   ],
   "source": [
    "type(distances.value)"
   ]
  },
  {
   "cell_type": "markdown",
   "metadata": {},
   "source": [
    "And a unit, which is represented by a `astropy.units.core.Unit` object:"
   ]
  },
  {
   "cell_type": "code",
   "execution_count": 28,
   "metadata": {},
   "outputs": [
    {
     "data": {
      "text/latex": [
       "$\\mathrm{lyr}$"
      ],
      "text/plain": [
       "Unit(\"lyr\")"
      ]
     },
     "execution_count": 28,
     "metadata": {},
     "output_type": "execute_result"
    }
   ],
   "source": [
    "distances.unit"
   ]
  },
  {
   "cell_type": "code",
   "execution_count": 29,
   "metadata": {},
   "outputs": [
    {
     "data": {
      "text/plain": [
       "astropy.units.core.Unit"
      ]
     },
     "execution_count": 29,
     "metadata": {},
     "output_type": "execute_result"
    }
   ],
   "source": [
    "type(distances.unit)"
   ]
  },
  {
   "cell_type": "markdown",
   "metadata": {},
   "source": [
    "A quantity behaves in many ways just like a `numpy.ndarray` with an attached unit."
   ]
  },
  {
   "cell_type": "code",
   "execution_count": 30,
   "metadata": {},
   "outputs": [
    {
     "data": {
      "text/latex": [
       "$[10,~60,~100] \\; \\mathrm{lyr}$"
      ],
      "text/plain": [
       "<Quantity [ 10.,  60., 100.] lyr>"
      ]
     },
     "execution_count": 30,
     "metadata": {},
     "output_type": "execute_result"
    }
   ],
   "source": [
    "distances * 10"
   ]
  },
  {
   "cell_type": "markdown",
   "metadata": {},
   "source": [
    "Many numpy functions will work as expected and return again a `Quantity` object:"
   ]
  },
  {
   "cell_type": "code",
   "execution_count": 31,
   "metadata": {},
   "outputs": [
    {
     "data": {
      "text/latex": [
       "$10 \\; \\mathrm{lyr}$"
      ],
      "text/plain": [
       "<Quantity 10. lyr>"
      ]
     },
     "execution_count": 31,
     "metadata": {},
     "output_type": "execute_result"
    }
   ],
   "source": [
    "np.max(distances)"
   ]
  },
  {
   "cell_type": "code",
   "execution_count": 32,
   "metadata": {},
   "outputs": [
    {
     "data": {
      "text/latex": [
       "$5.6666667 \\; \\mathrm{lyr}$"
      ],
      "text/plain": [
       "<Quantity 5.66666667 lyr>"
      ]
     },
     "execution_count": 32,
     "metadata": {},
     "output_type": "execute_result"
    }
   ],
   "source": [
    "np.mean(distances)"
   ]
  },
  {
   "cell_type": "markdown",
   "metadata": {},
   "source": [
    "Caution: There are cases where the unit handling is not well defined, e.g. in `np.log` arguments have to be dimensionless."
   ]
  },
  {
   "cell_type": "code",
   "execution_count": 33,
   "metadata": {},
   "outputs": [
    {
     "data": {
      "text/latex": [
       "$1.0986123 \\; \\mathrm{}$"
      ],
      "text/plain": [
       "<Quantity 1.09861229>"
      ]
     },
     "execution_count": 33,
     "metadata": {},
     "output_type": "execute_result"
    }
   ],
   "source": [
    "#np.log(30 * u.MeV) # Will raise an UnitConversionError\n",
    "np.log(30 * u.MeV / (10 * u.MeV))"
   ]
  },
  {
   "cell_type": "code",
   "execution_count": null,
   "metadata": {},
   "outputs": [],
   "source": []
  },
  {
   "cell_type": "markdown",
   "metadata": {},
   "source": [
    "The most practical way to work with units is: define the input quantities with units, do the computation and finally convert the final result to the desired units. \n",
    "In most cases there is no need for intermediate unit conversions.\n",
    "\n",
    "For standardized unit systems such as `'si'` or `'cgs'` there are convenience attributes on the quantity object:"
   ]
  },
  {
   "cell_type": "code",
   "execution_count": 34,
   "metadata": {},
   "outputs": [
    {
     "data": {
      "text/latex": [
       "$2.9979246 \\times 10^{8} \\; \\mathrm{\\frac{m}{s}}$"
      ],
      "text/plain": [
       "<Quantity 2.99792458e+08 m / s>"
      ]
     },
     "execution_count": 34,
     "metadata": {},
     "output_type": "execute_result"
    }
   ],
   "source": [
    "speed_of_light.si"
   ]
  },
  {
   "cell_type": "code",
   "execution_count": 35,
   "metadata": {},
   "outputs": [
    {
     "data": {
      "text/latex": [
       "$2.9979246 \\times 10^{10} \\; \\mathrm{\\frac{cm}{s}}$"
      ],
      "text/plain": [
       "<Quantity 2.99792458e+10 cm / s>"
      ]
     },
     "execution_count": 35,
     "metadata": {},
     "output_type": "execute_result"
    }
   ],
   "source": [
    "speed_of_light.cgs"
   ]
  },
  {
   "cell_type": "markdown",
   "metadata": {
    "collapsed": true
   },
   "source": [
    "### 1.2. Equivalencies\n",
    "\n",
    "In Astronomy and other fields of physics quantities are often measured in more practical units, which are equivalent to the actual physical unit. In `astropy.units` this is handled with the concept of \"equivalencies\".  \n",
    "\n",
    "For example consider units to measure spectral quantities such as wavelength, frequency and energy:"
   ]
  },
  {
   "cell_type": "code",
   "execution_count": 36,
   "metadata": {},
   "outputs": [
    {
     "data": {
      "text/latex": [
       "$1.2407003 \\; \\mathrm{MeV}$"
      ],
      "text/plain": [
       "<Quantity 1.24070031 MeV>"
      ]
     },
     "execution_count": 36,
     "metadata": {},
     "output_type": "execute_result"
    }
   ],
   "source": [
    "frequency = 3e20 * u.hertz\n",
    "frequency.to('MeV', equivalencies=u.spectral())"
   ]
  },
  {
   "cell_type": "code",
   "execution_count": 37,
   "metadata": {},
   "outputs": [
    {
     "data": {
      "text/latex": [
       "$0.99930819 \\; \\mathrm{pm}$"
      ],
      "text/plain": [
       "<Quantity 0.99930819 pm>"
      ]
     },
     "execution_count": 37,
     "metadata": {},
     "output_type": "execute_result"
    }
   ],
   "source": [
    "frequency.to('picometer', equivalencies=u.spectral())"
   ]
  },
  {
   "cell_type": "markdown",
   "metadata": {},
   "source": [
    "Or for converting temperatures:"
   ]
  },
  {
   "cell_type": "code",
   "execution_count": 38,
   "metadata": {},
   "outputs": [],
   "source": [
    "temperature = 25 * u.Celsius"
   ]
  },
  {
   "cell_type": "code",
   "execution_count": 39,
   "metadata": {},
   "outputs": [
    {
     "data": {
      "text/latex": [
       "$298.15 \\; \\mathrm{K}$"
      ],
      "text/plain": [
       "<Quantity 298.15 K>"
      ]
     },
     "execution_count": 39,
     "metadata": {},
     "output_type": "execute_result"
    }
   ],
   "source": [
    "temperature.to(\"Kelvin\", equivalencies=u.temperature())"
   ]
  },
  {
   "cell_type": "code",
   "execution_count": 40,
   "metadata": {},
   "outputs": [
    {
     "name": "stdout",
     "output_type": "stream",
     "text": [
      "77.0 deg_F\n"
     ]
    }
   ],
   "source": [
    "with u.imperial.enable():\n",
    "    print(temperature.to(\"deg_F\", equivalencies=u.temperature()))"
   ]
  },
  {
   "cell_type": "markdown",
   "metadata": {},
   "source": [
    "### 1.3 Constants\n",
    "\n",
    "Astropy provides a lot of builtin physical and astronomical constants quantitites in the [astropy.constants]() submodule:"
   ]
  },
  {
   "cell_type": "code",
   "execution_count": 41,
   "metadata": {},
   "outputs": [
    {
     "name": "stdout",
     "output_type": "stream",
     "text": [
      "299792.458 km / s\n"
     ]
    }
   ],
   "source": [
    "from astropy import constants as const\n",
    "\n",
    "print(const.c.to('km / s'))"
   ]
  },
  {
   "cell_type": "code",
   "execution_count": 42,
   "metadata": {},
   "outputs": [
    {
     "data": {
      "text/latex": [
       "$2.9979246 \\times 10^{8} \\; \\mathrm{\\frac{m}{s}}$"
      ],
      "text/plain": [
       "<<class 'astropy.constants.codata2018.CODATA2018'> name='Speed of light in vacuum' value=299792458.0 uncertainty=0.0 unit='m / s' reference='CODATA 2018'>"
      ]
     },
     "execution_count": 42,
     "metadata": {},
     "output_type": "execute_result"
    }
   ],
   "source": [
    "const.c"
   ]
  },
  {
   "cell_type": "code",
   "execution_count": 43,
   "metadata": {},
   "outputs": [
    {
     "data": {
      "text/latex": [
       "$6.957 \\times 10^{8} \\; \\mathrm{m}$"
      ],
      "text/plain": [
       "<<class 'astropy.constants.iau2015.IAU2015'> name='Nominal solar radius' value=695700000.0 uncertainty=0.0 unit='m' reference='IAU 2015 Resolution B 3'>"
      ]
     },
     "execution_count": 43,
     "metadata": {},
     "output_type": "execute_result"
    }
   ],
   "source": [
    "const.R_sun"
   ]
  },
  {
   "cell_type": "code",
   "execution_count": 44,
   "metadata": {},
   "outputs": [
    {
     "data": {
      "text/latex": [
       "$5.9721679 \\times 10^{24} \\; \\mathrm{kg}$"
      ],
      "text/plain": [
       "<<class 'astropy.constants.iau2015.IAU2015'> name='Earth mass' value=5.972167867791379e+24 uncertainty=1.3422009501651213e+20 unit='kg' reference='IAU 2015 Resolution B 3 + CODATA 2018'>"
      ]
     },
     "execution_count": 44,
     "metadata": {},
     "output_type": "execute_result"
    }
   ],
   "source": [
    "const.M_earth"
   ]
  },
  {
   "cell_type": "markdown",
   "metadata": {},
   "source": [
    "Here is a [list of available constants](http://docs.astropy.org/en/stable/constants/#module-astropy.constants).\n",
    "\n",
    "If you write a function you can make sure the input is given in the right units using the [astropy.units.quantity_input](http://docs.astropy.org/en/stable/api/astropy.units.quantity_input.html#astropy.units.quantity_input) decorator: "
   ]
  },
  {
   "cell_type": "markdown",
   "metadata": {},
   "source": [
    "## 2. Coordinates\n",
    "\n",
    "With the submodule [astropy.coordinates](http://docs.astropy.org/en/stable/coordinates/) Astropy provides a framework to handle sky positions in various coordinate systems and transformations between them.\n",
    "\n",
    "\n",
    "### 2.1 Basics\n",
    "The basic class to handle sky coordinates is [SkyCoord](http://docs.astropy.org/en/stable/api/astropy.coordinates.SkyCoord.html):"
   ]
  },
  {
   "cell_type": "code",
   "execution_count": 45,
   "metadata": {},
   "outputs": [],
   "source": [
    "from astropy.coordinates import SkyCoord"
   ]
  },
  {
   "cell_type": "markdown",
   "metadata": {},
   "source": [
    "It can be created by passing a position angle for longitude and latitude and a keyword specifying a coordinate frame:"
   ]
  },
  {
   "cell_type": "code",
   "execution_count": 46,
   "metadata": {},
   "outputs": [
    {
     "name": "stdout",
     "output_type": "stream",
     "text": [
      "<SkyCoord (ICRS): (ra, dec) in deg\n",
      "    (83.63, 22.01)>\n"
     ]
    }
   ],
   "source": [
    "position_crab = SkyCoord(83.63 * u.deg,  22.01 * u.deg, frame='icrs')\n",
    "print(position_crab)"
   ]
  },
  {
   "cell_type": "markdown",
   "metadata": {},
   "source": [
    "As for `Quantities` the instanciation with `lists`, `arrays` or even `Quantities` also works:"
   ]
  },
  {
   "cell_type": "code",
   "execution_count": 47,
   "metadata": {},
   "outputs": [
    {
     "name": "stdout",
     "output_type": "stream",
     "text": [
      "<SkyCoord (Galactic): (l, b) in deg\n",
      "    [(345. , -0.1), (234.3,  0.2)]>\n"
     ]
    }
   ],
   "source": [
    "positions = SkyCoord([345., 234.3] * u.deg,  [-0.1, 0.2] * u.deg, frame='galactic')\n",
    "print(positions)"
   ]
  },
  {
   "cell_type": "markdown",
   "metadata": {},
   "source": [
    "Alternatively the angles can be specified as string:"
   ]
  },
  {
   "cell_type": "code",
   "execution_count": 48,
   "metadata": {},
   "outputs": [
    {
     "data": {
      "text/plain": [
       "<SkyCoord (ICRS): (ra, dec) in deg\n",
       "    (83.63320833, 22.01447222)>"
      ]
     },
     "execution_count": 48,
     "metadata": {},
     "output_type": "execute_result"
    }
   ],
   "source": [
    "position_crab = SkyCoord('5h34m31.97s', '22d0m52.10s', frame='icrs')\n",
    "\n",
    "# or\n",
    "\n",
    "position_crab = SkyCoord('5:34:31.97', '22:0:52.10',\n",
    "                         unit=(u.hour, u.deg), frame='icrs')\n",
    "position_crab"
   ]
  },
  {
   "cell_type": "markdown",
   "metadata": {},
   "source": [
    "Where in the first case the unit doesn't have to specified because it is encoded in the string via `'hms'` and `'dms'`.\n",
    "\n",
    "A very convenient way to get the coordinates of an individual object is qerying the [Sesame](http://cds.u-strasbg.fr/cgi-bin/Sesame) database with `SkyCoord.from_name()`:"
   ]
  },
  {
   "cell_type": "code",
   "execution_count": 49,
   "metadata": {},
   "outputs": [],
   "source": [
    "pos_m13=SkyCoord.from_name('M13')"
   ]
  },
  {
   "cell_type": "code",
   "execution_count": 50,
   "metadata": {},
   "outputs": [
    {
     "data": {
      "text/plain": [
       "<SkyCoord (ICRS): (ra, dec) in deg\n",
       "    (250.423475, 36.46131944)>"
      ]
     },
     "execution_count": 50,
     "metadata": {},
     "output_type": "execute_result"
    }
   ],
   "source": [
    "pos_m13"
   ]
  },
  {
   "cell_type": "code",
   "execution_count": 51,
   "metadata": {},
   "outputs": [
    {
     "data": {
      "text/plain": [
       "<SkyCoord (Galactic): (l, b) in deg\n",
       "    (59.0094746, 40.91176144)>"
      ]
     },
     "execution_count": 51,
     "metadata": {},
     "output_type": "execute_result"
    }
   ],
   "source": [
    "pos_m13gal=pos_m13.transform_to('galactic')\n",
    "pos_m13gal"
   ]
  },
  {
   "cell_type": "markdown",
   "metadata": {},
   "source": [
    "To transform the coordinates to a different coordinate system we can use `SkyCoord.transform_to()`:"
   ]
  },
  {
   "cell_type": "code",
   "execution_count": 52,
   "metadata": {},
   "outputs": [
    {
     "data": {
      "text/plain": [
       "<SkyCoord (Galactic): (l, b) in deg\n",
       "    (184.55754381, -5.78427369)>"
      ]
     },
     "execution_count": 52,
     "metadata": {},
     "output_type": "execute_result"
    }
   ],
   "source": [
    "pos_gal = position_crab.transform_to('galactic')\n",
    "pos_gal"
   ]
  },
  {
   "cell_type": "markdown",
   "metadata": {},
   "source": [
    "For convenience we can also directly use the `.galactic` or `.icrs` attributes:"
   ]
  },
  {
   "cell_type": "code",
   "execution_count": 53,
   "metadata": {},
   "outputs": [
    {
     "data": {
      "text/plain": [
       "<SkyCoord (Galactic): (l, b) in deg\n",
       "    (184.55754381, -5.78427369)>"
      ]
     },
     "execution_count": 53,
     "metadata": {},
     "output_type": "execute_result"
    }
   ],
   "source": [
    "position_crab.galactic"
   ]
  },
  {
   "cell_type": "code",
   "execution_count": 54,
   "metadata": {},
   "outputs": [
    {
     "data": {
      "text/plain": [
       "<SkyCoord (ICRS): (ra, dec) in deg\n",
       "    (83.63320833, 22.01447222)>"
      ]
     },
     "execution_count": 54,
     "metadata": {},
     "output_type": "execute_result"
    }
   ],
   "source": [
    "position_crab.icrs"
   ]
  },
  {
   "cell_type": "markdown",
   "metadata": {},
   "source": [
    "To access the `longitude` and `latitude` angles individually: "
   ]
  },
  {
   "cell_type": "code",
   "execution_count": 55,
   "metadata": {},
   "outputs": [
    {
     "data": {
      "text/latex": [
       "$5^{\\mathrm{h}}34^{\\mathrm{m}}31.97^{\\mathrm{s}}$"
      ],
      "text/plain": [
       "<Longitude 5.57554722 hourangle>"
      ]
     },
     "execution_count": 55,
     "metadata": {},
     "output_type": "execute_result"
    }
   ],
   "source": [
    "position_crab.data.lon"
   ]
  },
  {
   "cell_type": "code",
   "execution_count": 56,
   "metadata": {},
   "outputs": [
    {
     "data": {
      "text/latex": [
       "$22^\\circ00{}^\\prime52.1{}^{\\prime\\prime}$"
      ],
      "text/plain": [
       "<Latitude 22.01447222 deg>"
      ]
     },
     "execution_count": 56,
     "metadata": {},
     "output_type": "execute_result"
    }
   ],
   "source": [
    "position_crab.data.lat"
   ]
  },
  {
   "cell_type": "markdown",
   "metadata": {},
   "source": [
    "### 2.2 Measuring distances between positions in the sky\n",
    "The angular distance between two [SkyCoord](http://docs.astropy.org/en/stable/api/astropy.coordinates.SkyCoord.html) objects, can be found using the [SkyCoord.separation()](http://docs.astropy.org/en/stable/api/astropy.coordinates.SkyCoord.html#astropy.coordinates.SkyCoord.separation) method:"
   ]
  },
  {
   "cell_type": "code",
   "execution_count": 57,
   "metadata": {},
   "outputs": [
    {
     "data": {
      "text/latex": [
       "$172^\\circ38{}^\\prime26.74307405{}^{\\prime\\prime}$"
      ],
      "text/plain": [
       "<Angle 172.64076197 deg>"
      ]
     },
     "execution_count": 57,
     "metadata": {},
     "output_type": "execute_result"
    }
   ],
   "source": [
    "#position_saga = SkyCoord.from_name('Sag A*')\n",
    "position_saga = SkyCoord(0 * u.deg, 0 * u.deg, frame='galactic')\n",
    "\n",
    "position_crab.separation(position_saga)"
   ]
  },
  {
   "cell_type": "code",
   "execution_count": 58,
   "metadata": {},
   "outputs": [
    {
     "data": {
      "text/plain": [
       "<SkyCoord (ICRS): (ra, dec) in deg\n",
       "    (83.63320833, 22.01447222)>"
      ]
     },
     "execution_count": 58,
     "metadata": {},
     "output_type": "execute_result"
    }
   ],
   "source": [
    "position_crab"
   ]
  },
  {
   "cell_type": "markdown",
   "metadata": {},
   "source": [
    "Sometimes the \"inverse\" operation is also useful: compute a new position based on a given offset and position angle:"
   ]
  },
  {
   "cell_type": "markdown",
   "metadata": {},
   "source": [
    "### 2.3 ALT - AZ coordinates (optional)\n",
    "\n",
    "In various cirumstances, e.g. for planning observations, it can be usefull to transform a sky coordinate into a position in the horizontal coordinate system given a location on earth and a time"
   ]
  },
  {
   "cell_type": "code",
   "execution_count": 59,
   "metadata": {},
   "outputs": [],
   "source": [
    "from astropy.coordinates import EarthLocation, AltAz\n",
    "from astropy.time import Time"
   ]
  },
  {
   "cell_type": "markdown",
   "metadata": {},
   "source": [
    "We define a location using [EarthLocation](http://docs.astropy.org/en/stable/api/astropy.coordinates.EarthLocation.html):"
   ]
  },
  {
   "cell_type": "code",
   "execution_count": 62,
   "metadata": {},
   "outputs": [
    {
     "name": "stdout",
     "output_type": "stream",
     "text": [
      "GeodeticLocation(lon=<Longitude 28.21323 deg>, lat=<Latitude -12.80243 deg>, height=<Quantity 0. m>)\n"
     ]
    }
   ],
   "source": [
    "kitwe = EarthLocation(lat=-12.80243* u.deg, lon=28.21323 * u.deg)\n",
    "print(kitwe.geodetic)"
   ]
  },
  {
   "cell_type": "markdown",
   "metadata": {},
   "source": [
    "And a time using the [Time](http://docs.astropy.org/en/stable/api/astropy.time.Time.html) object:"
   ]
  },
  {
   "cell_type": "code",
   "execution_count": 70,
   "metadata": {},
   "outputs": [
    {
     "name": "stdout",
     "output_type": "stream",
     "text": [
      "2023-10-26 09:02:36.413117\n"
     ]
    }
   ],
   "source": [
    "now = Time.now()\n",
    "print(now)"
   ]
  },
  {
   "cell_type": "markdown",
   "metadata": {},
   "source": [
    "Now we can define a horizontal coordinate system using the [AltAz]([docs.astropy.org/en/stable/api/astropy.coordinates.AltAz.html) class and use it to convert from the sky coordinate:"
   ]
  },
  {
   "cell_type": "code",
   "execution_count": 71,
   "metadata": {},
   "outputs": [
    {
     "name": "stdout",
     "output_type": "stream",
     "text": [
      "<SkyCoord (AltAz: obstime=2023-10-26 09:02:36.413117, location=(5481556.2041748, 2940814.48453277, -1404099.87000069) m, pressure=0.0 hPa, temperature=0.0 deg_C, relative_humidity=0.0, obswl=1.0 micron): (az, alt) in deg\n",
      "    (288.40947146, -27.12298597)>\n"
     ]
    }
   ],
   "source": [
    "altaz = AltAz(obstime=now, location=mathura)\n",
    "crab_altaz = position_crab.transform_to(altaz)\n",
    "print(crab_altaz)"
   ]
  },
  {
   "cell_type": "markdown",
   "metadata": {},
   "source": [
    "## 3. Tables\n",
    "\n",
    "Astropy provides the [Table](http://docs.astropy.org/en/stable/api/astropy.io.votable.tree.Table.html) class in order to handle data tables.\n",
    "\n",
    "### 3.1 Basics\n",
    "\n",
    "Table objects can be created as shown in the following"
   ]
  },
  {
   "cell_type": "code",
   "execution_count": 72,
   "metadata": {},
   "outputs": [],
   "source": [
    "from astropy.table import Table"
   ]
  },
  {
   "cell_type": "code",
   "execution_count": 73,
   "metadata": {},
   "outputs": [
    {
     "name": "stdout",
     "output_type": "stream",
     "text": [
      "<No columns>\n"
     ]
    }
   ],
   "source": [
    "table = Table()\n",
    "print(table)"
   ]
  },
  {
   "cell_type": "markdown",
   "metadata": {},
   "source": [
    "We add columns to the table like we would add entries to a dictionary"
   ]
  },
  {
   "cell_type": "code",
   "execution_count": 74,
   "metadata": {},
   "outputs": [],
   "source": [
    "table['Source_Name'] = ['Crab', 'Sag A*', 'Cas A', 'Vela Junior']\n",
    "table['GLON'] = [184.5575438, 0, 111.74169477, 266.25914205] * u.deg\n",
    "table['GLAT'] = [-5.78427369, 0, -2.13544151, -1.21985818] * u.deg\n",
    "table['Source_Class'] = ['pwn', 'unc', 'snr', 'snr']"
   ]
  },
  {
   "cell_type": "markdown",
   "metadata": {},
   "source": [
    "By executing the following cell, we get a nicely formatted version of the table printed in the notebook:"
   ]
  },
  {
   "cell_type": "code",
   "execution_count": 75,
   "metadata": {},
   "outputs": [
    {
     "data": {
      "text/html": [
       "<div><i>Table length=4</i>\n",
       "<table id=\"table139835707689568\" class=\"table-striped table-bordered table-condensed\">\n",
       "<thead><tr><th>Source_Name</th><th>GLON</th><th>GLAT</th><th>Source_Class</th></tr></thead>\n",
       "<thead><tr><th></th><th>deg</th><th>deg</th><th></th></tr></thead>\n",
       "<thead><tr><th>str11</th><th>float64</th><th>float64</th><th>str3</th></tr></thead>\n",
       "<tr><td>Crab</td><td>184.5575438</td><td>-5.78427369</td><td>pwn</td></tr>\n",
       "<tr><td>Sag A*</td><td>0.0</td><td>0.0</td><td>unc</td></tr>\n",
       "<tr><td>Cas A</td><td>111.74169477</td><td>-2.13544151</td><td>snr</td></tr>\n",
       "<tr><td>Vela Junior</td><td>266.25914205</td><td>-1.21985818</td><td>snr</td></tr>\n",
       "</table></div>"
      ],
      "text/plain": [
       "<Table length=4>\n",
       "Source_Name     GLON         GLAT    Source_Class\n",
       "                deg          deg                 \n",
       "   str11      float64      float64       str3    \n",
       "----------- ------------ ----------- ------------\n",
       "       Crab  184.5575438 -5.78427369          pwn\n",
       "     Sag A*          0.0         0.0          unc\n",
       "      Cas A 111.74169477 -2.13544151          snr\n",
       "Vela Junior 266.25914205 -1.21985818          snr"
      ]
     },
     "execution_count": 75,
     "metadata": {},
     "output_type": "execute_result"
    }
   ],
   "source": [
    "table"
   ]
  },
  {
   "cell_type": "markdown",
   "metadata": {},
   "source": [
    "### 3.2 Accessing rows and columns"
   ]
  },
  {
   "cell_type": "markdown",
   "metadata": {},
   "source": [
    "We have access to the defined columns. To check which ones are availbe you can use `Table.colnames`:"
   ]
  },
  {
   "cell_type": "code",
   "execution_count": 76,
   "metadata": {},
   "outputs": [
    {
     "data": {
      "text/plain": [
       "['Source_Name', 'GLON', 'GLAT', 'Source_Class']"
      ]
     },
     "execution_count": 76,
     "metadata": {},
     "output_type": "execute_result"
    }
   ],
   "source": [
    "table.colnames"
   ]
  },
  {
   "cell_type": "markdown",
   "metadata": {},
   "source": [
    "And access individual columns just by their name:"
   ]
  },
  {
   "cell_type": "code",
   "execution_count": 77,
   "metadata": {},
   "outputs": [
    {
     "data": {
      "text/html": [
       "&lt;Column name=&apos;GLON&apos; dtype=&apos;float64&apos; unit=&apos;deg&apos; length=4&gt;\n",
       "<table>\n",
       "<tr><td>184.5575438</td></tr>\n",
       "<tr><td>0.0</td></tr>\n",
       "<tr><td>111.74169477</td></tr>\n",
       "<tr><td>266.25914205</td></tr>\n",
       "</table>"
      ],
      "text/plain": [
       "<Column name='GLON' dtype='float64' unit='deg' length=4>\n",
       " 184.5575438\n",
       "         0.0\n",
       "111.74169477\n",
       "266.25914205"
      ]
     },
     "execution_count": 77,
     "metadata": {},
     "output_type": "execute_result"
    }
   ],
   "source": [
    "table['GLON']"
   ]
  },
  {
   "cell_type": "markdown",
   "metadata": {},
   "source": [
    "And also a subset of columns:"
   ]
  },
  {
   "cell_type": "code",
   "execution_count": 78,
   "metadata": {},
   "outputs": [
    {
     "data": {
      "text/html": [
       "<div><i>Table length=4</i>\n",
       "<table id=\"table139835681425680\" class=\"table-striped table-bordered table-condensed\">\n",
       "<thead><tr><th>Source_Name</th><th>GLON</th></tr></thead>\n",
       "<thead><tr><th></th><th>deg</th></tr></thead>\n",
       "<thead><tr><th>str11</th><th>float64</th></tr></thead>\n",
       "<tr><td>Crab</td><td>184.5575438</td></tr>\n",
       "<tr><td>Sag A*</td><td>0.0</td></tr>\n",
       "<tr><td>Cas A</td><td>111.74169477</td></tr>\n",
       "<tr><td>Vela Junior</td><td>266.25914205</td></tr>\n",
       "</table></div>"
      ],
      "text/plain": [
       "<Table length=4>\n",
       "Source_Name     GLON    \n",
       "                deg     \n",
       "   str11      float64   \n",
       "----------- ------------\n",
       "       Crab  184.5575438\n",
       "     Sag A*          0.0\n",
       "      Cas A 111.74169477\n",
       "Vela Junior 266.25914205"
      ]
     },
     "execution_count": 78,
     "metadata": {},
     "output_type": "execute_result"
    }
   ],
   "source": [
    "table[['Source_Name', 'GLON']]"
   ]
  },
  {
   "cell_type": "markdown",
   "metadata": {},
   "source": [
    "Often, it is handy to get the column data as [astropy.units.Quantity](http://docs.astropy.org/en/stable/api/astropy.units.Quantity.html#astropy.units.Quantity) using the `.quantity` property:"
   ]
  },
  {
   "cell_type": "code",
   "execution_count": 79,
   "metadata": {},
   "outputs": [
    {
     "data": {
      "text/latex": [
       "$[184.55754,~0,~111.74169,~266.25914] \\; \\mathrm{{}^{\\circ}}$"
      ],
      "text/plain": [
       "<Quantity [184.5575438 ,   0.        , 111.74169477, 266.25914205] deg>"
      ]
     },
     "execution_count": 79,
     "metadata": {},
     "output_type": "execute_result"
    }
   ],
   "source": [
    "table['GLON'].quantity"
   ]
  },
  {
   "cell_type": "markdown",
   "metadata": {},
   "source": [
    "Rows can be accessed using numpy indexing:"
   ]
  },
  {
   "cell_type": "code",
   "execution_count": 80,
   "metadata": {},
   "outputs": [
    {
     "data": {
      "text/html": [
       "<div><i>Table length=2</i>\n",
       "<table id=\"table139835681426832\" class=\"table-striped table-bordered table-condensed\">\n",
       "<thead><tr><th>Source_Name</th><th>GLON</th><th>GLAT</th><th>Source_Class</th></tr></thead>\n",
       "<thead><tr><th></th><th>deg</th><th>deg</th><th></th></tr></thead>\n",
       "<thead><tr><th>str11</th><th>float64</th><th>float64</th><th>str3</th></tr></thead>\n",
       "<tr><td>Crab</td><td>184.5575438</td><td>-5.78427369</td><td>pwn</td></tr>\n",
       "<tr><td>Sag A*</td><td>0.0</td><td>0.0</td><td>unc</td></tr>\n",
       "</table></div>"
      ],
      "text/plain": [
       "<Table length=2>\n",
       "Source_Name     GLON        GLAT    Source_Class\n",
       "                deg         deg                 \n",
       "   str11      float64     float64       str3    \n",
       "----------- ----------- ----------- ------------\n",
       "       Crab 184.5575438 -5.78427369          pwn\n",
       "     Sag A*         0.0         0.0          unc"
      ]
     },
     "execution_count": 80,
     "metadata": {},
     "output_type": "execute_result"
    }
   ],
   "source": [
    "table[0:2]"
   ]
  },
  {
   "cell_type": "markdown",
   "metadata": {},
   "source": [
    "Or by using a boolean numpy array for indexing:"
   ]
  },
  {
   "cell_type": "code",
   "execution_count": 81,
   "metadata": {},
   "outputs": [
    {
     "data": {
      "text/html": [
       "<div><i>Table length=1</i>\n",
       "<table id=\"table139835681424960\" class=\"table-striped table-bordered table-condensed\">\n",
       "<thead><tr><th>Source_Name</th><th>GLON</th><th>GLAT</th><th>Source_Class</th></tr></thead>\n",
       "<thead><tr><th></th><th>deg</th><th>deg</th><th></th></tr></thead>\n",
       "<thead><tr><th>str11</th><th>float64</th><th>float64</th><th>str3</th></tr></thead>\n",
       "<tr><td>Crab</td><td>184.5575438</td><td>-5.78427369</td><td>pwn</td></tr>\n",
       "</table></div>"
      ],
      "text/plain": [
       "<Table length=1>\n",
       "Source_Name     GLON        GLAT    Source_Class\n",
       "                deg         deg                 \n",
       "   str11      float64     float64       str3    \n",
       "----------- ----------- ----------- ------------\n",
       "       Crab 184.5575438 -5.78427369          pwn"
      ]
     },
     "execution_count": 81,
     "metadata": {},
     "output_type": "execute_result"
    }
   ],
   "source": [
    "selection = table['Source_Name'] == 'Crab'\n",
    "table[selection]"
   ]
  },
  {
   "cell_type": "markdown",
   "metadata": {},
   "source": [
    "There is also a more sophisticated indexing scheme, which is explained [here](http://docs.astropy.org/en/stable/table/indexing.html), but not covered in this tutorial."
   ]
  },
  {
   "cell_type": "markdown",
   "metadata": {},
   "source": [
    "### 3.3 Reading / Writing tables to disk\n",
    "Astropy tables can be serialized into many formats. For an overview see [here](http://docs.astropy.org/en/latest/io/unified.html#built-in-table-readers-writers). To write the table in FITS format we can use:"
   ]
  },
  {
   "cell_type": "code",
   "execution_count": 82,
   "metadata": {},
   "outputs": [],
   "source": [
    "table.write('example.fits', overwrite=True, format='fits')"
   ]
  },
  {
   "cell_type": "code",
   "execution_count": 83,
   "metadata": {},
   "outputs": [],
   "source": [
    "table.write('example.ecsv', overwrite=True, format='ascii.ecsv')"
   ]
  },
  {
   "cell_type": "code",
   "execution_count": 84,
   "metadata": {},
   "outputs": [
    {
     "data": {
      "text/html": [
       "<div><i>Table length=4</i>\n",
       "<table id=\"table139836624784400\" class=\"table-striped table-bordered table-condensed\">\n",
       "<thead><tr><th>Source_Name</th><th>GLON</th><th>GLAT</th><th>Source_Class</th></tr></thead>\n",
       "<thead><tr><th></th><th>deg</th><th>deg</th><th></th></tr></thead>\n",
       "<thead><tr><th>bytes11</th><th>float64</th><th>float64</th><th>bytes3</th></tr></thead>\n",
       "<tr><td>Crab</td><td>184.5575438</td><td>-5.78427369</td><td>pwn</td></tr>\n",
       "<tr><td>Sag A*</td><td>0.0</td><td>0.0</td><td>unc</td></tr>\n",
       "<tr><td>Cas A</td><td>111.74169477</td><td>-2.13544151</td><td>snr</td></tr>\n",
       "<tr><td>Vela Junior</td><td>266.25914205</td><td>-1.21985818</td><td>snr</td></tr>\n",
       "</table></div>"
      ],
      "text/plain": [
       "<Table length=4>\n",
       "Source_Name     GLON         GLAT    Source_Class\n",
       "                deg          deg                 \n",
       "  bytes11     float64      float64      bytes3   \n",
       "----------- ------------ ----------- ------------\n",
       "       Crab  184.5575438 -5.78427369          pwn\n",
       "     Sag A*          0.0         0.0          unc\n",
       "      Cas A 111.74169477 -2.13544151          snr\n",
       "Vela Junior 266.25914205 -1.21985818          snr"
      ]
     },
     "execution_count": 84,
     "metadata": {},
     "output_type": "execute_result"
    }
   ],
   "source": [
    "Table.read('example.fits')"
   ]
  },
  {
   "cell_type": "code",
   "execution_count": 89,
   "metadata": {},
   "outputs": [
    {
     "ename": "ValueError",
     "evalue": "Cannot create TableLoc object with no indices",
     "output_type": "error",
     "traceback": [
      "\u001b[0;31m---------------------------------------------------------------------------\u001b[0m",
      "\u001b[0;31mValueError\u001b[0m                                Traceback (most recent call last)",
      "\u001b[0;32m/tmp/ipykernel_4697/891194174.py\u001b[0m in \u001b[0;36m<cell line: 1>\u001b[0;34m()\u001b[0m\n\u001b[0;32m----> 1\u001b[0;31m \u001b[0mtable\u001b[0m\u001b[0;34m.\u001b[0m\u001b[0mloc\u001b[0m\u001b[0;34m[\u001b[0m\u001b[0;34m\"Crab\"\u001b[0m\u001b[0;34m]\u001b[0m\u001b[0;34m\u001b[0m\u001b[0;34m\u001b[0m\u001b[0m\n\u001b[0m",
      "\u001b[0;32m~/anaconda3/lib/python3.9/site-packages/astropy/table/table.py\u001b[0m in \u001b[0;36mloc\u001b[0;34m(self)\u001b[0m\n\u001b[1;32m    971\u001b[0m         \u001b[0;32mand\u001b[0m \u001b[0miloc\u001b[0m \u001b[0mwork\u001b[0m \u001b[0monly\u001b[0m \u001b[0;32mwith\u001b[0m \u001b[0msingle\u001b[0m\u001b[0;34m-\u001b[0m\u001b[0mcolumn\u001b[0m \u001b[0mindices\u001b[0m\u001b[0;34m.\u001b[0m\u001b[0;34m\u001b[0m\u001b[0;34m\u001b[0m\u001b[0m\n\u001b[1;32m    972\u001b[0m         '''\n\u001b[0;32m--> 973\u001b[0;31m         \u001b[0;32mreturn\u001b[0m \u001b[0mTableLoc\u001b[0m\u001b[0;34m(\u001b[0m\u001b[0mself\u001b[0m\u001b[0;34m)\u001b[0m\u001b[0;34m\u001b[0m\u001b[0;34m\u001b[0m\u001b[0m\n\u001b[0m\u001b[1;32m    974\u001b[0m \u001b[0;34m\u001b[0m\u001b[0m\n\u001b[1;32m    975\u001b[0m     \u001b[0;34m@\u001b[0m\u001b[0mproperty\u001b[0m\u001b[0;34m\u001b[0m\u001b[0;34m\u001b[0m\u001b[0m\n",
      "\u001b[0;32m~/anaconda3/lib/python3.9/site-packages/astropy/table/index.py\u001b[0m in \u001b[0;36m__init__\u001b[0;34m(self, table)\u001b[0m\n\u001b[1;32m    812\u001b[0m         \u001b[0mself\u001b[0m\u001b[0;34m.\u001b[0m\u001b[0mindices\u001b[0m \u001b[0;34m=\u001b[0m \u001b[0mtable\u001b[0m\u001b[0;34m.\u001b[0m\u001b[0mindices\u001b[0m\u001b[0;34m\u001b[0m\u001b[0;34m\u001b[0m\u001b[0m\n\u001b[1;32m    813\u001b[0m         \u001b[0;32mif\u001b[0m \u001b[0mlen\u001b[0m\u001b[0;34m(\u001b[0m\u001b[0mself\u001b[0m\u001b[0;34m.\u001b[0m\u001b[0mindices\u001b[0m\u001b[0;34m)\u001b[0m \u001b[0;34m==\u001b[0m \u001b[0;36m0\u001b[0m\u001b[0;34m:\u001b[0m\u001b[0;34m\u001b[0m\u001b[0;34m\u001b[0m\u001b[0m\n\u001b[0;32m--> 814\u001b[0;31m             \u001b[0;32mraise\u001b[0m \u001b[0mValueError\u001b[0m\u001b[0;34m(\u001b[0m\u001b[0;34m\"Cannot create TableLoc object with no indices\"\u001b[0m\u001b[0;34m)\u001b[0m\u001b[0;34m\u001b[0m\u001b[0;34m\u001b[0m\u001b[0m\n\u001b[0m\u001b[1;32m    815\u001b[0m \u001b[0;34m\u001b[0m\u001b[0m\n\u001b[1;32m    816\u001b[0m     \u001b[0;32mdef\u001b[0m \u001b[0m_get_rows\u001b[0m\u001b[0;34m(\u001b[0m\u001b[0mself\u001b[0m\u001b[0;34m,\u001b[0m \u001b[0mitem\u001b[0m\u001b[0;34m)\u001b[0m\u001b[0;34m:\u001b[0m\u001b[0;34m\u001b[0m\u001b[0;34m\u001b[0m\u001b[0m\n",
      "\u001b[0;31mValueError\u001b[0m: Cannot create TableLoc object with no indices"
     ]
    }
   ],
   "source": [
    "table.loc[\"GLON\"]"
   ]
  },
  {
   "cell_type": "markdown",
   "metadata": {},
   "source": [
    "This works for mutiple keys as well:"
   ]
  },
  {
   "cell_type": "code",
   "execution_count": 90,
   "metadata": {},
   "outputs": [
    {
     "ename": "ValueError",
     "evalue": "Cannot create TableLoc object with no indices",
     "output_type": "error",
     "traceback": [
      "\u001b[0;31m---------------------------------------------------------------------------\u001b[0m",
      "\u001b[0;31mValueError\u001b[0m                                Traceback (most recent call last)",
      "\u001b[0;32m/tmp/ipykernel_4697/600321419.py\u001b[0m in \u001b[0;36m<cell line: 1>\u001b[0;34m()\u001b[0m\n\u001b[0;32m----> 1\u001b[0;31m \u001b[0mtable\u001b[0m\u001b[0;34m.\u001b[0m\u001b[0mloc\u001b[0m\u001b[0;34m[\u001b[0m\u001b[0;34m[\u001b[0m\u001b[0;34m\"Cas A\"\u001b[0m\u001b[0;34m,\u001b[0m \u001b[0;34m\"Crab\"\u001b[0m\u001b[0;34m]\u001b[0m\u001b[0;34m]\u001b[0m\u001b[0;34m\u001b[0m\u001b[0;34m\u001b[0m\u001b[0m\n\u001b[0m",
      "\u001b[0;32m~/anaconda3/lib/python3.9/site-packages/astropy/table/table.py\u001b[0m in \u001b[0;36mloc\u001b[0;34m(self)\u001b[0m\n\u001b[1;32m    971\u001b[0m         \u001b[0;32mand\u001b[0m \u001b[0miloc\u001b[0m \u001b[0mwork\u001b[0m \u001b[0monly\u001b[0m \u001b[0;32mwith\u001b[0m \u001b[0msingle\u001b[0m\u001b[0;34m-\u001b[0m\u001b[0mcolumn\u001b[0m \u001b[0mindices\u001b[0m\u001b[0;34m.\u001b[0m\u001b[0;34m\u001b[0m\u001b[0;34m\u001b[0m\u001b[0m\n\u001b[1;32m    972\u001b[0m         '''\n\u001b[0;32m--> 973\u001b[0;31m         \u001b[0;32mreturn\u001b[0m \u001b[0mTableLoc\u001b[0m\u001b[0;34m(\u001b[0m\u001b[0mself\u001b[0m\u001b[0;34m)\u001b[0m\u001b[0;34m\u001b[0m\u001b[0;34m\u001b[0m\u001b[0m\n\u001b[0m\u001b[1;32m    974\u001b[0m \u001b[0;34m\u001b[0m\u001b[0m\n\u001b[1;32m    975\u001b[0m     \u001b[0;34m@\u001b[0m\u001b[0mproperty\u001b[0m\u001b[0;34m\u001b[0m\u001b[0;34m\u001b[0m\u001b[0m\n",
      "\u001b[0;32m~/anaconda3/lib/python3.9/site-packages/astropy/table/index.py\u001b[0m in \u001b[0;36m__init__\u001b[0;34m(self, table)\u001b[0m\n\u001b[1;32m    812\u001b[0m         \u001b[0mself\u001b[0m\u001b[0;34m.\u001b[0m\u001b[0mindices\u001b[0m \u001b[0;34m=\u001b[0m \u001b[0mtable\u001b[0m\u001b[0;34m.\u001b[0m\u001b[0mindices\u001b[0m\u001b[0;34m\u001b[0m\u001b[0;34m\u001b[0m\u001b[0m\n\u001b[1;32m    813\u001b[0m         \u001b[0;32mif\u001b[0m \u001b[0mlen\u001b[0m\u001b[0;34m(\u001b[0m\u001b[0mself\u001b[0m\u001b[0;34m.\u001b[0m\u001b[0mindices\u001b[0m\u001b[0;34m)\u001b[0m \u001b[0;34m==\u001b[0m \u001b[0;36m0\u001b[0m\u001b[0;34m:\u001b[0m\u001b[0;34m\u001b[0m\u001b[0;34m\u001b[0m\u001b[0m\n\u001b[0;32m--> 814\u001b[0;31m             \u001b[0;32mraise\u001b[0m \u001b[0mValueError\u001b[0m\u001b[0;34m(\u001b[0m\u001b[0;34m\"Cannot create TableLoc object with no indices\"\u001b[0m\u001b[0;34m)\u001b[0m\u001b[0;34m\u001b[0m\u001b[0;34m\u001b[0m\u001b[0m\n\u001b[0m\u001b[1;32m    815\u001b[0m \u001b[0;34m\u001b[0m\u001b[0m\n\u001b[1;32m    816\u001b[0m     \u001b[0;32mdef\u001b[0m \u001b[0m_get_rows\u001b[0m\u001b[0;34m(\u001b[0m\u001b[0mself\u001b[0m\u001b[0;34m,\u001b[0m \u001b[0mitem\u001b[0m\u001b[0;34m)\u001b[0m\u001b[0;34m:\u001b[0m\u001b[0;34m\u001b[0m\u001b[0;34m\u001b[0m\u001b[0m\n",
      "\u001b[0;31mValueError\u001b[0m: Cannot create TableLoc object with no indices"
     ]
    }
   ],
   "source": [
    "table.loc[[\"Cas A\", \"Crab\"]]"
   ]
  },
  {
   "cell_type": "markdown",
   "metadata": {},
   "source": [
    "Astropy's table object also supports the possiblity to group the rows by a given key column. The groups will be defined by the unique values contained in the column defined as key:"
   ]
  },
  {
   "cell_type": "code",
   "execution_count": null,
   "metadata": {},
   "outputs": [],
   "source": [
    "table_grouped = table.group_by(\"Source_Class\")\n",
    "\n",
    "for group in table_grouped.groups:\n",
    "    print(group, \"\\n\")"
   ]
  },
  {
   "cell_type": "markdown",
   "metadata": {},
   "source": [
    "Where each `group` is again a `Table` object:"
   ]
  },
  {
   "cell_type": "code",
   "execution_count": null,
   "metadata": {},
   "outputs": [],
   "source": [
    "type(group)"
   ]
  },
  {
   "cell_type": "markdown",
   "metadata": {},
   "source": [
    "### 3.5. Miscellaneous\n",
    "\n",
    "These are a few other useful operations when working with Astropy tables.\n",
    "\n",
    "Sort by key:"
   ]
  },
  {
   "cell_type": "code",
   "execution_count": null,
   "metadata": {},
   "outputs": [],
   "source": [
    "table.sort('GLON')"
   ]
  },
  {
   "cell_type": "code",
   "execution_count": null,
   "metadata": {},
   "outputs": [],
   "source": [
    "table"
   ]
  },
  {
   "cell_type": "markdown",
   "metadata": {},
   "source": [
    "Note that `.sort()` is an in place operation on the table, i.e. changes the actual table.\n",
    "\n",
    "To remove a specific row by index:"
   ]
  },
  {
   "cell_type": "code",
   "execution_count": null,
   "metadata": {},
   "outputs": [],
   "source": [
    "table.remove_row(0)"
   ]
  },
  {
   "cell_type": "markdown",
   "metadata": {},
   "source": [
    "Astropy tables also support row-wise iteration in Python loops:"
   ]
  },
  {
   "cell_type": "code",
   "execution_count": null,
   "metadata": {},
   "outputs": [],
   "source": [
    "for row in table:\n",
    "    print(row['Source_Name'])"
   ]
  },
  {
   "cell_type": "markdown",
   "metadata": {},
   "source": [
    "Another useful feature for quickly inspecting the data contained in the table is the `.show_in_browser()` method:"
   ]
  },
  {
   "cell_type": "code",
   "execution_count": null,
   "metadata": {},
   "outputs": [],
   "source": [
    "table.show_in_browser(jsviewer=True)"
   ]
  },
  {
   "cell_type": "markdown",
   "metadata": {},
   "source": [
    "## 4. FITS Images and WCS\n",
    "\n",
    "The [flexible image transport system](https://fits.gsfc.nasa.gov/fits_documentation.html) format (FITS) is widely used data format for astronomical images and tables. As example we will use image data of the supernova remnant [Cassiopeia A](https://en.wikipedia.org/wiki/Cassiopeia_A), taken by the [Chandra X-ray observatory](http://chandra.harvard.edu/).\n",
    "\n",
    "### 4.1 Basics\n"
   ]
  },
  {
   "cell_type": "code",
   "execution_count": 144,
   "metadata": {},
   "outputs": [],
   "source": [
    "from astropy.io import fits"
   ]
  },
  {
   "cell_type": "markdown",
   "metadata": {},
   "source": [
    "To open the fits file we use `fits.open()` and just specify the filename as an argument:"
   ]
  },
  {
   "cell_type": "code",
   "execution_count": 149,
   "metadata": {
    "scrolled": true
   },
   "outputs": [],
   "source": [
    "hdulist = fits.open('casa_0.5-1.5keV.fits')"
   ]
  },
  {
   "cell_type": "markdown",
   "metadata": {},
   "source": [
    "We can retrieve some basic information on the  header data unit (HDU) by calling `.info()`:"
   ]
  },
  {
   "cell_type": "code",
   "execution_count": 150,
   "metadata": {},
   "outputs": [
    {
     "name": "stdout",
     "output_type": "stream",
     "text": [
      "Filename: casa_0.5-1.5keV.fits\n",
      "No.    Name      Ver    Type      Cards   Dimensions   Format\n",
      "  0  PRIMARY       1 PrimaryHDU      26   (1024, 1024)   float32   \n"
     ]
    }
   ],
   "source": [
    "hdulist.info()"
   ]
  },
  {
   "cell_type": "markdown",
   "metadata": {},
   "source": [
    "It contains only one `PrimaryHDU` with data dimensions `(1024, 1024)` of format `float32`. To access the hdu we use:"
   ]
  },
  {
   "cell_type": "code",
   "execution_count": 151,
   "metadata": {},
   "outputs": [],
   "source": [
    "image_hdu = hdulist['PRIMARY'] \n",
    "\n",
    "#or\n",
    "\n",
    "image_hdu = hdulist[0] "
   ]
  },
  {
   "cell_type": "markdown",
   "metadata": {},
   "source": [
    "We can access the data with the `.data` attribute:"
   ]
  },
  {
   "cell_type": "code",
   "execution_count": 152,
   "metadata": {},
   "outputs": [
    {
     "data": {
      "text/plain": [
       "array([[0., 0., 0., ..., 0., 0., 0.],\n",
       "       [0., 0., 0., ..., 0., 0., 0.],\n",
       "       [0., 0., 0., ..., 0., 0., 0.],\n",
       "       ...,\n",
       "       [0., 0., 0., ..., 0., 0., 0.],\n",
       "       [0., 0., 0., ..., 1., 0., 0.],\n",
       "       [0., 0., 0., ..., 0., 0., 0.]], dtype=float32)"
      ]
     },
     "execution_count": 152,
     "metadata": {},
     "output_type": "execute_result"
    }
   ],
   "source": [
    "image_hdu.data"
   ]
  },
  {
   "cell_type": "markdown",
   "metadata": {},
   "source": [
    "It is a plain 2d numpy array. We use `plt.imshow()` to visualize it:"
   ]
  },
  {
   "cell_type": "code",
   "execution_count": 153,
   "metadata": {},
   "outputs": [
    {
     "data": {
      "text/plain": [
       "<matplotlib.colorbar.Colorbar at 0x7f696fb72910>"
      ]
     },
     "execution_count": 153,
     "metadata": {},
     "output_type": "execute_result"
    },
    {
     "data": {
      "image/png": "[encoded data removed]",
      "text/plain": [
       "<Figure size 432x288 with 2 Axes>"
      ]
     },
     "metadata": {
      "needs_background": "light"
     },
     "output_type": "display_data"
    }
   ],
   "source": [
    "plt.imshow(image_hdu.data, origin='lower', cmap='inferno')\n",
    "plt.colorbar()"
   ]
  },
  {
   "cell_type": "markdown",
   "metadata": {},
   "source": [
    "Additional meta information is stored in the `.header` attribute:"
   ]
  },
  {
   "cell_type": "code",
   "execution_count": 154,
   "metadata": {},
   "outputs": [
    {
     "data": {
      "text/plain": [
       "<matplotlib.colorbar.Colorbar at 0x7f696eb82990>"
      ]
     },
     "execution_count": 154,
     "metadata": {},
     "output_type": "execute_result"
    },
    {
     "data": {
      "image/png": "[encoded data removed]",
      "text/plain": [
       "<Figure size 432x288 with 2 Axes>"
      ]
     },
     "metadata": {
      "needs_background": "light"
     },
     "output_type": "display_data"
    }
   ],
   "source": [
    "plt.imshow(image_hdu.data, origin='lower', cmap='magma') # plasma, magma, cividis\n",
    "plt.colorbar()"
   ]
  },
  {
   "cell_type": "code",
   "execution_count": 155,
   "metadata": {},
   "outputs": [
    {
     "data": {
      "text/plain": [
       "SIMPLE  =                    T / Fits standard                                  \n",
       "BITPIX  =                  -32 / Bits per pixel                                 \n",
       "NAXIS   =                    2 / Number of axes                                 \n",
       "NAXIS1  =                 1024 / Axis Length                                    \n",
       "NAXIS2  =                 1024 / Axis Length                                    \n",
       "OBJECT  = 'Cassiopeia A'                                                        \n",
       "DATE-OBS= '2007-12-05T22:01:59'                                                 \n",
       "DATE-END= '2007-12-08T20:07:24'                                                 \n",
       "LTM1_1  =                    1                                                  \n",
       "LTM1_2  =                    0                                                  \n",
       "LTM2_1  =                    0                                                  \n",
       "LTM2_2  =                    1                                                  \n",
       "LTV1    =                -3651                                                  \n",
       "LTV2    =                -3807                                                  \n",
       "CTYPE1  = 'RA---TAN'                                                            \n",
       "CTYPE2  = 'DEC--TAN'                                                            \n",
       "CUNIT1  = 'deg'                                                                 \n",
       "CUNIT2  = 'deg'                                                                 \n",
       "CRPIX1  =                445.5                                                  \n",
       "CRPIX2  =                289.5                                                  \n",
       "CRVAL1  =          350.8841248                                                  \n",
       "CRVAL2  =          58.78133011                                                  \n",
       "CDELT1  =     -0.0001366666693                                                  \n",
       "CDELT2  =      0.0001366666693                                                  \n",
       "EQUINOX =                 2000                                                  \n",
       "RADESYS = 'ICRS'                                                                "
      ]
     },
     "execution_count": 155,
     "metadata": {},
     "output_type": "execute_result"
    }
   ],
   "source": [
    "image_hdu.header"
   ]
  },
  {
   "cell_type": "markdown",
   "metadata": {},
   "source": [
    "We now use the header information to create a world coordinate to pixel coordinate transformation, using the [astropy.wcs.WCS](http://docs.astropy.org/en/stable/api/astropy.wcs.WCS.html#astropy.wcs.WCS) class:"
   ]
  },
  {
   "cell_type": "code",
   "execution_count": 156,
   "metadata": {},
   "outputs": [],
   "source": [
    "from astropy.wcs import WCS"
   ]
  },
  {
   "cell_type": "code",
   "execution_count": 157,
   "metadata": {},
   "outputs": [
    {
     "name": "stderr",
     "output_type": "stream",
     "text": [
      "WARNING: FITSFixedWarning: 'datfix' made the change 'Set MJD-OBS to 54439.918044 from DATE-OBS.\n",
      "Set MJD-END to 54442.838472 from DATE-END'. [astropy.wcs.wcs]\n"
     ]
    },
    {
     "name": "stdout",
     "output_type": "stream",
     "text": [
      "WCS Keywords\n",
      "\n",
      "Number of WCS axes: 2\n",
      "CTYPE : 'RA---TAN'  'DEC--TAN'  \n",
      "CRVAL : 350.8841248  58.78133011  \n",
      "CRPIX : 445.5  289.5  \n",
      "PC1_1 PC1_2  : 1.0  0.0  \n",
      "PC2_1 PC2_2  : 0.0  1.0  \n",
      "CDELT : -0.0001366666693  0.0001366666693  \n",
      "NAXIS : 1024  1024\n"
     ]
    }
   ],
   "source": [
    "wcs = WCS(image_hdu.header)\n",
    "print(wcs)"
   ]
  },
  {
   "cell_type": "markdown",
   "metadata": {},
   "source": [
    "Using the helper methods [SkyCoord.to_pixel()](http://docs.astropy.org/en/stable/api/astropy.coordinates.SkyCoord.html#astropy.coordinates.SkyCoord.to_pixel) and [SkyCood.from_pixel()](http://docs.astropy.org/en/stable/api/astropy.coordinates.SkyCoord.html#astropy.coordinates.SkyCoord.from_pixel) we can now convert every position in the image to the corresponding sky coordinate:"
   ]
  },
  {
   "cell_type": "code",
   "execution_count": 158,
   "metadata": {},
   "outputs": [
    {
     "data": {
      "text/plain": [
       "<SkyCoord (ICRS): (ra, dec) in deg\n",
       "    (351.00119731, 58.74184873)>"
      ]
     },
     "execution_count": 158,
     "metadata": {},
     "output_type": "execute_result"
    }
   ],
   "source": [
    "SkyCoord.from_pixel(0, 0, wcs)"
   ]
  },
  {
   "cell_type": "code",
   "execution_count": 159,
   "metadata": {},
   "outputs": [
    {
     "data": {
      "text/plain": [
       "(array(511.59886806), array(511.29670003))"
      ]
     },
     "execution_count": 159,
     "metadata": {},
     "output_type": "execute_result"
    }
   ],
   "source": [
    "# position_casa = SkyCoord.from_name('Cas A')\n",
    "\n",
    "# or\n",
    "\n",
    "position_casa = SkyCoord('23h23m27.94s', '+58d48m42.4s', frame='icrs')\n",
    "\n",
    "position_casa.to_pixel(wcs)"
   ]
  },
  {
   "cell_type": "markdown",
   "metadata": {},
   "source": [
    "## 5. Plotting of sky images (optional)"
   ]
  },
  {
   "cell_type": "markdown",
   "metadata": {
    "collapsed": true
   },
   "source": [
    "The [Matplotlib](https://matplotlib.org/) package is a very popular plotting package for Python. Astropy provides a helper module [astropy.visualization.wcsaxes](http://docs.astropy.org/en/stable/visualization/wcsaxes/) to simplify plotting of sky images with Matplotlib.\n",
    "\n",
    "To use it we just pass `projection=wcs` to the `plt.subplot()` function:"
   ]
  },
  {
   "cell_type": "code",
   "execution_count": 160,
   "metadata": {},
   "outputs": [
    {
     "data": {
      "image/png": "[encoded data removed]",
      "text/plain": [
       "<Figure size 432x288 with 1 Axes>"
      ]
     },
     "metadata": {
      "needs_background": "light"
     },
     "output_type": "display_data"
    }
   ],
   "source": [
    "ax = plt.subplot(projection=wcs)\n",
    "ax.imshow(image_hdu.data, cmap='inferno', origin='lower')\n",
    "\n",
    "ax.set_xlabel('RA (deg)')\n",
    "ax.set_ylabel('DEC (deg)')"
   ]
  },
  {
   "cell_type": "markdown",
   "metadata": {},
   "source": [
    "And we get the plot with the x-axis and y-axis in sky coordinates. \n",
    "\n",
    "We can add a coordinate grid with `ax.grid()`:"
   ]
  },
  {
   "cell_type": "code",
   "execution_count": 161,
   "metadata": {},
   "outputs": [
    {
     "data": {
      "image/png": "[encoded data removed]",
      "text/plain": [
       "<Figure size 432x288 with 1 Axes>"
      ]
     },
     "execution_count": 161,
     "metadata": {},
     "output_type": "execute_result"
    }
   ],
   "source": [
    "ax.grid(linewidth=0.3, linestyle='dashed', color='white')\n",
    "ax.figure"
   ]
  },
  {
   "cell_type": "markdown",
   "metadata": {},
   "source": [
    "We add a white cross to mark the center position of `'Cas A'`:"
   ]
  },
  {
   "cell_type": "code",
   "execution_count": 162,
   "metadata": {},
   "outputs": [
    {
     "data": {
      "image/png": "[encoded data removed]",
      "text/plain": [
       "<Figure size 432x288 with 1 Axes>"
      ]
     },
     "execution_count": 162,
     "metadata": {},
     "output_type": "execute_result"
    }
   ],
   "source": [
    "ra = position_casa.icrs.ra.deg\n",
    "dec = position_casa.icrs.dec.deg\n",
    "ax.scatter(ra, dec, transform=ax.get_transform('icrs'), color='white', marker='x')\n",
    "ax.figure"
   ]
  },
  {
   "cell_type": "markdown",
   "metadata": {},
   "source": [
    "We can also add geometrical shapes to the image to illustrate regions:"
   ]
  },
  {
   "cell_type": "code",
   "execution_count": 163,
   "metadata": {},
   "outputs": [],
   "source": [
    "from matplotlib.patches import Circle\n",
    "from astropy.wcs.utils import proj_plane_pixel_scales"
   ]
  },
  {
   "cell_type": "code",
   "execution_count": 164,
   "metadata": {},
   "outputs": [],
   "source": [
    "# transform to pixel coordinates\n",
    "xy = ax.wcs.world_to_pixel(position_casa)\n",
    "pixel_size = proj_plane_pixel_scales(wcs)[0] * u.deg\n",
    "radius = 2.2 * u.arcmin / pixel_size"
   ]
  },
  {
   "cell_type": "code",
   "execution_count": 165,
   "metadata": {},
   "outputs": [
    {
     "data": {
      "image/png": "[encoded data removed]",
      "text/plain": [
       "<Figure size 432x288 with 1 Axes>"
      ]
     },
     "execution_count": 165,
     "metadata": {},
     "output_type": "execute_result"
    }
   ],
   "source": [
    "circle = Circle(\n",
    "    xy=xy,\n",
    "    radius=radius.to_value(\"\"),\n",
    "    edgecolor=\"w\",\n",
    "    facecolor=\"None\"\n",
    ")\n",
    "ax.add_patch(circle)\n",
    "ax.figure"
   ]
  },
  {
   "cell_type": "code",
   "execution_count": null,
   "metadata": {},
   "outputs": [],
   "source": []
  },
  {
   "cell_type": "code",
   "execution_count": 166,
   "metadata": {},
   "outputs": [
    {
     "name": "stdout",
     "output_type": "stream",
     "text": [
      "<SkyCoord (ICRS): (ra, dec) in deg\n",
      "    (5.52844243, -72.05207809)>\n"
     ]
    }
   ],
   "source": [
    "from astropy.io import fits\n",
    "from astropy.wcs import WCS\n",
    "from astropy.utils.data import get_pkg_data_filename\n",
    "fn = get_pkg_data_filename('data/j94f05bgq_flt.fits', package='astropy.wcs.tests')\n",
    "f = fits.open(fn)\n",
    "w = WCS(f[1].header)\n",
    "sky = w.pixel_to_world(30, 40)\n",
    "print(sky)  \n",
    "f.close()"
   ]
  },
  {
   "cell_type": "code",
   "execution_count": null,
   "metadata": {},
   "outputs": [],
   "source": []
  },
  {
   "cell_type": "code",
   "execution_count": null,
   "metadata": {},
   "outputs": [],
   "source": []
  }
 ],
 "metadata": {
  "kernelspec": {
   "display_name": "Python 3 (ipykernel)",
   "language": "python",
   "name": "python3"
  },
  "language_info": {
   "codemirror_mode": {
    "name": "ipython",
    "version": 3
   },
   "file_extension": ".py",
   "mimetype": "text/x-python",
   "name": "python",
   "nbconvert_exporter": "python",
   "pygments_lexer": "ipython3",
   "version": "3.9.12"
  }
 },
 "nbformat": 4,
 "nbformat_minor": 2
}
