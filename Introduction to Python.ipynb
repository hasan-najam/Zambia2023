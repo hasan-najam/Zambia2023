{
 "cells": [
  {
   "cell_type": "markdown",
   "id": "261086f6",
   "metadata": {},
   "source": [
    "# TP1: Day1    Zambia Workshop 25-27 October 2023"
   ]
  },
  {
   "attachments": {
    "python1.jpeg": {
     "image/jpeg": "[encoded data removed]"
    }
   },
   "cell_type": "markdown",
   "id": "4678f417",
   "metadata": {},
   "source": [
    "\n",
    "![python1.jpeg](attachment:python1.jpeg)\n"
   ]
  },
  {
   "cell_type": "markdown",
   "id": "8e65312c",
   "metadata": {},
   "source": [
    "# Introduction to Python and Jupyter Notebooks"
   ]
  },
  {
   "cell_type": "markdown",
   "id": "803f1cc9",
   "metadata": {},
   "source": [
    "# 1. Why program? Why Python?"
   ]
  },
  {
   "cell_type": "markdown",
   "id": "ac743746",
   "metadata": {},
   "source": [
    "Programming in scientific research is important:\n",
    "* as tasks can be done in an organised form, \n",
    "* iterative techniques can be effectively used,\n",
    "* programs can be re-used/reprogramed/tailored.\n",
    "\n",
    "There are many programming languages, but the advantages of using python are many. \n",
    "* It is a simple, versatile, open source free language \n",
    "* being used widely and hence a large number of libraries and code is available  \n",
    "* it has a strong community support \n",
    "* high quality graphics can be easily created.  "
   ]
  },
  {
   "cell_type": "markdown",
   "id": "764090b8",
   "metadata": {},
   "source": [
    "$\\textbf{Python}$ is an interpreted high-level general-purpose object-oriented programming language. \n",
    "\n",
    "OS: Windows, Linux/UNIX, macOS etc.\n"
   ]
  },
  {
   "cell_type": "markdown",
   "id": "1294ef86",
   "metadata": {},
   "source": [
    "The $\\textbf{Jupyter Notebook}$ is a popular web-based interactive environment. \n",
    "It is a convenient to use, it is useful to create and share documents that contain codes, equations, texts, and visualizations. \n",
    "\n",
    "A Jupyter Notebook can be easily converted to HTML, LaTeX, PDF, Markdown, Python, and other open standard formats"
   ]
  },
  {
   "cell_type": "markdown",
   "id": "ba9c7be9",
   "metadata": {},
   "source": [
    "# 2. Installing Python - Anaconda Distribution"
   ]
  },
  {
   "cell_type": "code",
   "execution_count": 2,
   "id": "5432d06c",
   "metadata": {},
   "outputs": [
    {
     "data": {
      "text/html": [
       "<div style=\"text-align:center;\">\n",
       "<iframe src=\"https://docs.conda.io/projects/conda/en/latest/user-guide/install/\" width=\"960\" height=\"540\"></iframe>\n",
       "</div>\n"
      ],
      "text/plain": [
       "<IPython.core.display.HTML object>"
      ]
     },
     "metadata": {},
     "output_type": "display_data"
    }
   ],
   "source": [
    "%%html\n",
    "<div style=\"text-align:center;\">\n",
    "<iframe src=\"https://docs.conda.io/projects/conda/en/latest/user-guide/install/\" width=\"960\" height=\"540\"></iframe>\n",
    "</div>"
   ]
  },
  {
   "cell_type": "markdown",
   "id": "257509eb",
   "metadata": {},
   "source": [
    "# 3. Getting Started with Basic Python Commands, Syntax"
   ]
  },
  {
   "cell_type": "markdown",
   "id": "ac743ad9",
   "metadata": {},
   "source": [
    "## Simple Calculations"
   ]
  },
  {
   "cell_type": "code",
   "execution_count": 3,
   "id": "348d8b37",
   "metadata": {},
   "outputs": [
    {
     "name": "stdout",
     "output_type": "stream",
     "text": [
      "8\n"
     ]
    }
   ],
   "source": [
    "a=2\n",
    "b=6\n",
    "c=a+b\n",
    "print(c)"
   ]
  },
  {
   "cell_type": "code",
   "execution_count": 4,
   "id": "968dcb97",
   "metadata": {},
   "outputs": [
    {
     "name": "stdout",
     "output_type": "stream",
     "text": [
      "8\n"
     ]
    }
   ],
   "source": [
    "c=2\n",
    "d=4\n",
    "e=c*d\n",
    "print(e)"
   ]
  },
  {
   "cell_type": "code",
   "execution_count": 5,
   "id": "a82af537",
   "metadata": {},
   "outputs": [
    {
     "name": "stdout",
     "output_type": "stream",
     "text": [
      "64\n"
     ]
    }
   ],
   "source": [
    "f=e**2\n",
    "print(f)"
   ]
  },
  {
   "cell_type": "code",
   "execution_count": 6,
   "id": "5224e4ae",
   "metadata": {},
   "outputs": [
    {
     "name": "stdout",
     "output_type": "stream",
     "text": [
      "2\n"
     ]
    }
   ],
   "source": [
    "print(a)"
   ]
  },
  {
   "cell_type": "code",
   "execution_count": 7,
   "id": "85681397",
   "metadata": {},
   "outputs": [
    {
     "data": {
      "text/plain": [
       "2"
      ]
     },
     "execution_count": 7,
     "metadata": {},
     "output_type": "execute_result"
    }
   ],
   "source": [
    "a"
   ]
  },
  {
   "cell_type": "code",
   "execution_count": 8,
   "id": "34bde576",
   "metadata": {},
   "outputs": [
    {
     "data": {
      "text/plain": [
       "4"
      ]
     },
     "execution_count": 8,
     "metadata": {},
     "output_type": "execute_result"
    }
   ],
   "source": [
    "d"
   ]
  },
  {
   "cell_type": "code",
   "execution_count": 9,
   "id": "6c23aeab",
   "metadata": {},
   "outputs": [
    {
     "name": "stdout",
     "output_type": "stream",
     "text": [
      "Sum=  10\n",
      "Difference=  4\n",
      "Division=  2.3333333333333335\n",
      "Multiplication=  21\n"
     ]
    }
   ],
   "source": [
    "a=7\n",
    "b=3\n",
    "print('Sum= ', a+b)\n",
    "print('Difference= ', a-b)\n",
    "print('Division= ', a/b)\n",
    "print('Multiplication= ',a*b)"
   ]
  },
  {
   "cell_type": "code",
   "execution_count": 10,
   "id": "4c4d901d",
   "metadata": {},
   "outputs": [
    {
     "name": "stdout",
     "output_type": "stream",
     "text": [
      "Remainder=  1\n"
     ]
    }
   ],
   "source": [
    "#This is a comment\n",
    "'''\n",
    "THis is also a comment\n",
    "These are ignored by Python; They are not executed\n",
    "'''\n",
    "\n",
    "#Calculating remainder here\n",
    "print('Remainder= ', a%b)\n"
   ]
  },
  {
   "cell_type": "markdown",
   "id": "4ea82ff2",
   "metadata": {},
   "source": [
    "## Data Types"
   ]
  },
  {
   "cell_type": "code",
   "execution_count": 11,
   "id": "5c914076",
   "metadata": {},
   "outputs": [],
   "source": [
    "y=2"
   ]
  },
  {
   "cell_type": "code",
   "execution_count": 12,
   "id": "467b11a9",
   "metadata": {},
   "outputs": [
    {
     "data": {
      "text/plain": [
       "2"
      ]
     },
     "execution_count": 12,
     "metadata": {},
     "output_type": "execute_result"
    }
   ],
   "source": [
    "y"
   ]
  },
  {
   "cell_type": "code",
   "execution_count": 13,
   "id": "566055dd",
   "metadata": {},
   "outputs": [],
   "source": [
    "x=1.05"
   ]
  },
  {
   "cell_type": "code",
   "execution_count": 14,
   "id": "72baf087",
   "metadata": {},
   "outputs": [
    {
     "data": {
      "text/plain": [
       "1.05"
      ]
     },
     "execution_count": 14,
     "metadata": {},
     "output_type": "execute_result"
    }
   ],
   "source": [
    "x"
   ]
  },
  {
   "cell_type": "code",
   "execution_count": 15,
   "id": "ca2eb1ab",
   "metadata": {},
   "outputs": [],
   "source": [
    "# A string is a sequence of one or more characters (letters, numbers, symbols) that can be either a constant or a variable.\n",
    "st=\"This is a string\" #single, double quotes, immutable"
   ]
  },
  {
   "cell_type": "code",
   "execution_count": 16,
   "id": "084415c6",
   "metadata": {},
   "outputs": [
    {
     "data": {
      "text/plain": [
       "'This is a string'"
      ]
     },
     "execution_count": 16,
     "metadata": {},
     "output_type": "execute_result"
    }
   ],
   "source": [
    "st"
   ]
  },
  {
   "cell_type": "code",
   "execution_count": 17,
   "id": "7341de7a",
   "metadata": {},
   "outputs": [
    {
     "name": "stdout",
     "output_type": "stream",
     "text": [
      "This is a stringThis is a stringThis is a stringThis is a stringThis is a stringThis is a stringThis is a stringThis is a stringThis is a string\n"
     ]
    }
   ],
   "source": [
    "print(st * 9)"
   ]
  },
  {
   "cell_type": "code",
   "execution_count": 18,
   "id": "0d83c0ea",
   "metadata": {},
   "outputs": [
    {
     "name": "stdout",
     "output_type": "stream",
     "text": [
      "THIS IS A STRING\n"
     ]
    }
   ],
   "source": [
    "print(st.upper())"
   ]
  },
  {
   "cell_type": "code",
   "execution_count": 19,
   "id": "e1025247",
   "metadata": {},
   "outputs": [],
   "source": [
    "st2=\"\"\"Hi\"\"\""
   ]
  },
  {
   "cell_type": "code",
   "execution_count": 20,
   "id": "a20729a9",
   "metadata": {},
   "outputs": [
    {
     "name": "stdout",
     "output_type": "stream",
     "text": [
      "Hi This is a string\n"
     ]
    }
   ],
   "source": [
    "print(st2 + \" \" + st)"
   ]
  },
  {
   "cell_type": "code",
   "execution_count": 21,
   "id": "3defbf2b",
   "metadata": {},
   "outputs": [],
   "source": [
    "list1=[1,2,3,4,5] \n",
    "# A list is a mutable, or changeable, ordered sequence of elements. Each element or value that is inside of a list is called an item. Just as strings are\n",
    " \n",
    "#defined as characters between quotes, lists are defined by having values between square brackets [ ]."
   ]
  },
  {
   "cell_type": "code",
   "execution_count": 22,
   "id": "a036d3d5",
   "metadata": {},
   "outputs": [
    {
     "name": "stdin",
     "output_type": "stream",
     "text": [
      "Hi! What’s your name?  Chidi\n"
     ]
    },
    {
     "name": "stdout",
     "output_type": "stream",
     "text": [
      "Nice to meet you Chidi!\n"
     ]
    },
    {
     "name": "stdin",
     "output_type": "stream",
     "text": [
      "How old are you  30\n"
     ]
    },
    {
     "name": "stdout",
     "output_type": "stream",
     "text": [
      "So, you are already 30 years old, Chidi!\n"
     ]
    }
   ],
   "source": [
    "name = input('Hi! What’s your name? ')\n",
    "print('Nice to meet you ' + name + '!')\n",
    "age = input('How old are you ')\n",
    "print('So, you are already ' + str(age) + ' years old, '\n",
    "+ name + '!')"
   ]
  },
  {
   "cell_type": "code",
   "execution_count": 23,
   "id": "065822cf",
   "metadata": {},
   "outputs": [
    {
     "name": "stdout",
     "output_type": "stream",
     "text": [
      "16\n"
     ]
    }
   ],
   "source": [
    "print(len(st))"
   ]
  },
  {
   "cell_type": "code",
   "execution_count": 24,
   "id": "c89ff941",
   "metadata": {},
   "outputs": [
    {
     "name": "stdout",
     "output_type": "stream",
     "text": [
      "A b b e y   h a s   a   c r o c o d i l e .\n"
     ]
    }
   ],
   "source": [
    "# str.join(), str.split(), and str.replace()\n",
    "balloon = \"Abbey has a crocodile.\"\n",
    "print(\" \".join(balloon))"
   ]
  },
  {
   "cell_type": "code",
   "execution_count": 25,
   "id": "f10ec392",
   "metadata": {},
   "outputs": [
    {
     "name": "stdout",
     "output_type": "stream",
     "text": [
      ".elidocorc a sah yebbA\n"
     ]
    }
   ],
   "source": [
    "print(\"\".join(reversed(balloon)))"
   ]
  },
  {
   "cell_type": "code",
   "execution_count": 26,
   "id": "34adf009",
   "metadata": {},
   "outputs": [
    {
     "name": "stdout",
     "output_type": "stream",
     "text": [
      "r\n"
     ]
    }
   ],
   "source": [
    "#Index\n",
    "ss = \"Python for Astronomy!\"\n",
    "print(ss[9])"
   ]
  },
  {
   "cell_type": "code",
   "execution_count": 27,
   "id": "2428059f",
   "metadata": {},
   "outputs": [
    {
     "name": "stdout",
     "output_type": "stream",
     "text": [
      "m\n"
     ]
    }
   ],
   "source": [
    "print(ss[-3])"
   ]
  },
  {
   "cell_type": "code",
   "execution_count": 28,
   "id": "7e89edd7",
   "metadata": {},
   "outputs": [
    {
     "name": "stdout",
     "output_type": "stream",
     "text": [
      " for \n"
     ]
    }
   ],
   "source": [
    "# Slicing Strings\n",
    "print(ss[6:11])\n"
   ]
  },
  {
   "cell_type": "code",
   "execution_count": 29,
   "id": "3e02239f",
   "metadata": {},
   "outputs": [
    {
     "name": "stdout",
     "output_type": "stream",
     "text": [
      "Poo\n"
     ]
    }
   ],
   "source": [
    "print(ss[0:12:4])# stride of 4"
   ]
  },
  {
   "cell_type": "code",
   "execution_count": 30,
   "id": "7220ebdf",
   "metadata": {},
   "outputs": [
    {
     "name": "stdout",
     "output_type": "stream",
     "text": [
      "!ymonortsA rof nohtyP\n"
     ]
    }
   ],
   "source": [
    "#print the original string in reverse order if we set the stride to -1:\n",
    "print(ss[::-1])"
   ]
  },
  {
   "cell_type": "code",
   "execution_count": 31,
   "id": "8addfe23",
   "metadata": {},
   "outputs": [
    {
     "name": "stdout",
     "output_type": "stream",
     "text": [
      "21\n"
     ]
    }
   ],
   "source": [
    "print(len(ss))"
   ]
  },
  {
   "cell_type": "code",
   "execution_count": 32,
   "id": "372dc136",
   "metadata": {},
   "outputs": [],
   "source": [
    "list2=[[2,1],[3,4], 2, \"test\", 3.4]"
   ]
  },
  {
   "cell_type": "code",
   "execution_count": 33,
   "id": "f9c50339",
   "metadata": {},
   "outputs": [
    {
     "data": {
      "text/plain": [
       "[[2, 1], [3, 4], 2, 'test', 3.4]"
      ]
     },
     "execution_count": 33,
     "metadata": {},
     "output_type": "execute_result"
    }
   ],
   "source": [
    "list2"
   ]
  },
  {
   "cell_type": "code",
   "execution_count": 34,
   "id": "2925cf84",
   "metadata": {},
   "outputs": [
    {
     "data": {
      "text/plain": [
       "1"
      ]
     },
     "execution_count": 34,
     "metadata": {},
     "output_type": "execute_result"
    }
   ],
   "source": [
    "list1[0]"
   ]
  },
  {
   "cell_type": "code",
   "execution_count": 35,
   "id": "d4f3a02d",
   "metadata": {},
   "outputs": [
    {
     "data": {
      "text/plain": [
       "[3, 4]"
      ]
     },
     "execution_count": 35,
     "metadata": {},
     "output_type": "execute_result"
    }
   ],
   "source": [
    "list2[1]"
   ]
  },
  {
   "cell_type": "code",
   "execution_count": 36,
   "id": "37fb09fc",
   "metadata": {},
   "outputs": [
    {
     "data": {
      "text/plain": [
       "3.4"
      ]
     },
     "execution_count": 36,
     "metadata": {},
     "output_type": "execute_result"
    }
   ],
   "source": [
    "list2[4]"
   ]
  },
  {
   "cell_type": "code",
   "execution_count": 37,
   "id": "7344487a",
   "metadata": {},
   "outputs": [
    {
     "data": {
      "text/plain": [
       "int"
      ]
     },
     "execution_count": 37,
     "metadata": {},
     "output_type": "execute_result"
    }
   ],
   "source": [
    "type(a)"
   ]
  },
  {
   "cell_type": "code",
   "execution_count": 38,
   "id": "2887fe88",
   "metadata": {},
   "outputs": [
    {
     "data": {
      "text/plain": [
       "list"
      ]
     },
     "execution_count": 38,
     "metadata": {},
     "output_type": "execute_result"
    }
   ],
   "source": [
    "type(list1)"
   ]
  },
  {
   "cell_type": "code",
   "execution_count": 39,
   "id": "fd1080ba",
   "metadata": {},
   "outputs": [
    {
     "data": {
      "text/plain": [
       "str"
      ]
     },
     "execution_count": 39,
     "metadata": {},
     "output_type": "execute_result"
    }
   ],
   "source": [
    "type(st)"
   ]
  },
  {
   "cell_type": "code",
   "execution_count": 40,
   "id": "c21e8350",
   "metadata": {},
   "outputs": [
    {
     "data": {
      "text/plain": [
       "float"
      ]
     },
     "execution_count": 40,
     "metadata": {},
     "output_type": "execute_result"
    }
   ],
   "source": [
    "type(list2[4])"
   ]
  },
  {
   "cell_type": "code",
   "execution_count": 41,
   "id": "5cbd06c6",
   "metadata": {},
   "outputs": [
    {
     "data": {
      "text/plain": [
       "list"
      ]
     },
     "execution_count": 41,
     "metadata": {},
     "output_type": "execute_result"
    }
   ],
   "source": [
    "type(list1[1:3])"
   ]
  },
  {
   "cell_type": "code",
   "execution_count": 42,
   "id": "32b0b305",
   "metadata": {},
   "outputs": [],
   "source": [
    "list1.append(6.8)"
   ]
  },
  {
   "cell_type": "code",
   "execution_count": 43,
   "id": "2c903772",
   "metadata": {},
   "outputs": [
    {
     "data": {
      "text/plain": [
       "[1, 2, 3, 4, 5, 6.8]"
      ]
     },
     "execution_count": 43,
     "metadata": {},
     "output_type": "execute_result"
    }
   ],
   "source": [
    "list1"
   ]
  },
  {
   "cell_type": "code",
   "execution_count": 44,
   "id": "53d798a2",
   "metadata": {},
   "outputs": [],
   "source": [
    "list1.reverse()"
   ]
  },
  {
   "cell_type": "code",
   "execution_count": 45,
   "id": "1f55b5e5",
   "metadata": {},
   "outputs": [
    {
     "data": {
      "text/plain": [
       "[6.8, 5, 4, 3, 2, 1]"
      ]
     },
     "execution_count": 45,
     "metadata": {},
     "output_type": "execute_result"
    }
   ],
   "source": [
    "list1"
   ]
  },
  {
   "cell_type": "code",
   "execution_count": 46,
   "id": "a9b20d1e",
   "metadata": {},
   "outputs": [],
   "source": [
    "# Tuples\n",
    "#A tuple is used for grouping data. It is an immutable, or unchangeable, ordered sequence of elements.\n",
    "#Tuples are very similar to lists, but they use parentheses ( ) instead of square brackets and because they are immutable their values cannot be modified.#"
   ]
  },
  {
   "cell_type": "code",
   "execution_count": 49,
   "id": "6bff7d4e",
   "metadata": {},
   "outputs": [
    {
     "name": "stdout",
     "output_type": "stream",
     "text": [
      "('star formation', 'galaxy dynamics', 'solar system')\n"
     ]
    }
   ],
   "source": [
    "coral = ('star formation', 'galaxy dynamics', 'solar system')\n",
    "print(coral)"
   ]
  },
  {
   "cell_type": "code",
   "execution_count": 50,
   "id": "2fc91bd5",
   "metadata": {},
   "outputs": [],
   "source": [
    "# T h e dictionary is Python’s built-in mapping type. This means that dictionaries map keys to values and these key-value pairs are a useful way to store data in Python. A dictionary is constructed with curly braces on either side { }."
   ]
  },
  {
   "cell_type": "code",
   "execution_count": 53,
   "id": "72de34ad",
   "metadata": {},
   "outputs": [
    {
     "name": "stdout",
     "output_type": "stream",
     "text": [
      "{'name': 'Simba', 'animal': 'lion', 'color': 'brown', 'location': 'jungle'}\n"
     ]
    }
   ],
   "source": [
    "sammy = {'name': 'Simba', 'animal': 'lion', 'color':'brown',  'location': 'jungle'}\n",
    "print(sammy)"
   ]
  },
  {
   "cell_type": "code",
   "execution_count": 54,
   "id": "ca347049",
   "metadata": {},
   "outputs": [],
   "source": [
    "# The Boolean data type can be one of two values, either True or False. Booleans are used to represent the truth values that are associated with the logic branch of mathematics, which informs algorithms in computer science."
   ]
  },
  {
   "cell_type": "code",
   "execution_count": 55,
   "id": "6cca1a2c",
   "metadata": {},
   "outputs": [
    {
     "name": "stdout",
     "output_type": "stream",
     "text": [
      "True\n"
     ]
    }
   ],
   "source": [
    "bool= 500 > 200\n",
    "print(bool)"
   ]
  },
  {
   "cell_type": "code",
   "execution_count": 56,
   "id": "846f3f1c",
   "metadata": {},
   "outputs": [
    {
     "name": "stdout",
     "output_type": "stream",
     "text": [
      "False\n"
     ]
    }
   ],
   "source": [
    "bool2=100 > 200\n",
    "print(bool2)"
   ]
  },
  {
   "cell_type": "code",
   "execution_count": 57,
   "id": "30f6e5a0",
   "metadata": {},
   "outputs": [
    {
     "name": "stdout",
     "output_type": "stream",
     "text": [
      "True\n",
      "False\n"
     ]
    }
   ],
   "source": [
    "number = \"5\"\n",
    "letters = \"abcdef\"\n",
    "print(number.isnumeric())\n",
    "print(letters.isnumeric())"
   ]
  },
  {
   "cell_type": "markdown",
   "id": "37af2436",
   "metadata": {},
   "source": [
    "## Convert Data Types"
   ]
  },
  {
   "cell_type": "code",
   "execution_count": 58,
   "id": "0f7802e8",
   "metadata": {},
   "outputs": [
    {
     "data": {
      "text/plain": [
       "57.0"
      ]
     },
     "execution_count": 58,
     "metadata": {},
     "output_type": "execute_result"
    }
   ],
   "source": [
    "float(57)"
   ]
  },
  {
   "cell_type": "code",
   "execution_count": 59,
   "id": "ffc6fd13",
   "metadata": {},
   "outputs": [
    {
     "data": {
      "text/plain": [
       "390"
      ]
     },
     "execution_count": 59,
     "metadata": {},
     "output_type": "execute_result"
    }
   ],
   "source": [
    "int(390.8)"
   ]
  },
  {
   "cell_type": "code",
   "execution_count": 60,
   "id": "bd6406ec",
   "metadata": {},
   "outputs": [
    {
     "name": "stdout",
     "output_type": "stream",
     "text": [
      "2.5\n"
     ]
    }
   ],
   "source": [
    "a=5/2 \n",
    "print(a)"
   ]
  },
  {
   "cell_type": "code",
   "execution_count": 61,
   "id": "2f61b659",
   "metadata": {},
   "outputs": [],
   "source": [
    "# In Python 2, since you were dealing with two integers, you would receive an integer back as your answer, instead: 5 / 2 = 2"
   ]
  },
  {
   "cell_type": "code",
   "execution_count": 62,
   "id": "65df5987",
   "metadata": {},
   "outputs": [
    {
     "data": {
      "text/plain": [
       "'12'"
      ]
     },
     "execution_count": 62,
     "metadata": {},
     "output_type": "execute_result"
    }
   ],
   "source": [
    "str(12)"
   ]
  },
  {
   "cell_type": "code",
   "execution_count": 63,
   "id": "72b08d8b",
   "metadata": {},
   "outputs": [
    {
     "name": "stdout",
     "output_type": "stream",
     "text": [
      "58\n"
     ]
    }
   ],
   "source": [
    "lines_yesterday = \"50\"\n",
    "lines_today = \"108\"\n",
    "lines_more = int(lines_today) - int(lines_yesterday)\n",
    "print(lines_more)"
   ]
  },
  {
   "cell_type": "code",
   "execution_count": 64,
   "id": "922ebbd9",
   "metadata": {},
   "outputs": [
    {
     "name": "stdout",
     "output_type": "stream",
     "text": [
      "5569.83\n"
     ]
    }
   ],
   "source": [
    "total_points = \"5524.53\"\n",
    "new_points = \"45.30\"\n",
    "new_total_points = float(total_points) + float(new_points)\n",
    "print(new_total_points)"
   ]
  },
  {
   "cell_type": "markdown",
   "id": "f62a8c05",
   "metadata": {},
   "source": [
    "##### Converting to Tuples and Lists: list() and tuple()  In Python: - a list is a mutable ordered sequence of elements that is contained within square brackets [ ]. - a tuple is an immutable ordered sequence of elements contained within parentheses ( )"
   ]
  },
  {
   "cell_type": "code",
   "execution_count": 65,
   "id": "9586feac",
   "metadata": {},
   "outputs": [
    {
     "name": "stdout",
     "output_type": "stream",
     "text": [
      "('pull request', 'open source', 'repository', 'branch')\n"
     ]
    }
   ],
   "source": [
    "print(tuple(['pull request', 'open source','repository', 'branch']))"
   ]
  },
  {
   "cell_type": "code",
   "execution_count": 67,
   "id": "d6cec869",
   "metadata": {},
   "outputs": [
    {
     "name": "stdout",
     "output_type": "stream",
     "text": [
      "('lion', 'leopard', 'fish', 'tiger prawns')\n"
     ]
    }
   ],
   "source": [
    "sea_creatures = ['lion', 'leopard', 'fish','tiger prawns']\n",
    "print(tuple(sea_creatures))"
   ]
  },
  {
   "cell_type": "code",
   "execution_count": 72,
   "id": "00b555be",
   "metadata": {},
   "outputs": [
    {
     "name": "stdout",
     "output_type": "stream",
     "text": [
      "['blue coral', 'staghorn coral', 'pillar coral']\n"
     ]
    }
   ],
   "source": [
    "print(list(('blue coral', 'staghorn coral', 'pillar coral')))"
   ]
  },
  {
   "cell_type": "code",
   "execution_count": 73,
   "id": "9fc6d788",
   "metadata": {},
   "outputs": [
    {
     "name": "stdout",
     "output_type": "stream",
     "text": [
      "['s', 'h', 'a', 'r', 'k']\n"
     ]
    }
   ],
   "source": [
    "#Just like tuples, strings can be converted to lists:\n",
    "print(list('shark'))"
   ]
  },
  {
   "cell_type": "code",
   "execution_count": 74,
   "id": "5df40194",
   "metadata": {},
   "outputs": [],
   "source": [
    "my_string = 'Hello, World!'\n",
    "my_flt = 45.06\n",
    "my_bool = 5 > 9 #A Boolean value will return either\n",
    "True or False\n",
    "my_list = ['item_1', 'item_2', 'item_3', 'item_4']\n",
    "my_tuple = ('one', 'two', 'three')\n",
    "my_dict = {'letter': 'g', 'number': 'seven', 'symbol':'&'}"
   ]
  },
  {
   "cell_type": "markdown",
   "id": "638be181",
   "metadata": {},
   "source": [
    "## Variables"
   ]
  },
  {
   "cell_type": "markdown",
   "id": "5028ca4d",
   "metadata": {},
   "source": [
    "Variable names must only be one word (as in no spaces)\\\n",
    "Variable names must be made up of only letters, numbers, and underscore (_)\\\n",
    "Variable names cannot begin with a number\n",
    "\n",
    "Chk these:\\\n",
    "my_int int4 MY_INT another_int valid\\\n",
    "my-int 4int $MY_INT another int invalid\\\n",
    "Hyphens are not permitted Cannot begin with a number Cannot use symbols other than _ Cannot be more than one word\\\n",
    "\n",
    "Global and Local Variables"
   ]
  },
  {
   "cell_type": "markdown",
   "id": "a79a5382",
   "metadata": {},
   "source": [
    "## Conditionals"
   ]
  },
  {
   "cell_type": "code",
   "execution_count": 75,
   "id": "fc50bfe4",
   "metadata": {},
   "outputs": [],
   "source": [
    "a=5"
   ]
  },
  {
   "cell_type": "code",
   "execution_count": 76,
   "id": "b564e496",
   "metadata": {},
   "outputs": [
    {
     "name": "stdout",
     "output_type": "stream",
     "text": [
      "5\n"
     ]
    }
   ],
   "source": [
    "x=5\n",
    "if x < 10:\n",
    "    y=x\n",
    "else:\n",
    "    y=2\n",
    "print(y)    "
   ]
  },
  {
   "cell_type": "code",
   "execution_count": 77,
   "id": "3222bcae",
   "metadata": {},
   "outputs": [
    {
     "name": "stdout",
     "output_type": "stream",
     "text": [
      "a is greater than 2\n"
     ]
    }
   ],
   "source": [
    "if(a>2):\n",
    "    print('a is greater than 2')\n",
    "else:\n",
    "    print('a is not greater than 2')"
   ]
  },
  {
   "cell_type": "code",
   "execution_count": 78,
   "id": "e61a9311",
   "metadata": {},
   "outputs": [],
   "source": [
    "should_multiply=False"
   ]
  },
  {
   "cell_type": "code",
   "execution_count": 79,
   "id": "ee01e52b",
   "metadata": {},
   "outputs": [],
   "source": [
    "b=2"
   ]
  },
  {
   "cell_type": "code",
   "execution_count": 80,
   "id": "a4885bfa",
   "metadata": {},
   "outputs": [],
   "source": [
    "if(should_multiply == True):\n",
    "    c=a*b\n",
    "else:\n",
    "    c=a+b"
   ]
  },
  {
   "cell_type": "code",
   "execution_count": 81,
   "id": "bfe8d401",
   "metadata": {},
   "outputs": [
    {
     "data": {
      "text/plain": [
       "7"
      ]
     },
     "execution_count": 81,
     "metadata": {},
     "output_type": "execute_result"
    }
   ],
   "source": [
    "c"
   ]
  },
  {
   "cell_type": "code",
   "execution_count": 82,
   "id": "b6d9aba8",
   "metadata": {},
   "outputs": [
    {
     "name": "stdout",
     "output_type": "stream",
     "text": [
      "(8.0, 63.5)\n"
     ]
    }
   ],
   "source": [
    "a = 985.5\n",
    "b = 115.25\n",
    "print(divmod(a,b))\n",
    "#8.0 is the floor quotient of 985.5 divided by 115.25, and 63.5 is the remainder"
   ]
  },
  {
   "cell_type": "markdown",
   "id": "20bcda0d",
   "metadata": {},
   "source": [
    "## Loops"
   ]
  },
  {
   "cell_type": "code",
   "execution_count": 83,
   "id": "64318c8b",
   "metadata": {},
   "outputs": [
    {
     "name": "stdout",
     "output_type": "stream",
     "text": [
      "3 9 27\n",
      "4 16 64\n",
      "5 25 125\n",
      "6 36 216\n",
      "7 49 343\n",
      "8 64 512\n",
      "9 81 729\n",
      "10 100 1000\n",
      "11 121 1331\n",
      "12 144 1728\n"
     ]
    }
   ],
   "source": [
    "for i in range(3,13):\n",
    "    print(i, i*i, i*i*i)\n"
   ]
  },
  {
   "cell_type": "code",
   "execution_count": 84,
   "id": "52e3c2a8",
   "metadata": {},
   "outputs": [
    {
     "name": "stdout",
     "output_type": "stream",
     "text": [
      "  3    9    27\n",
      "  4   16    64\n",
      "  5   25   125\n",
      "  6   36   216\n",
      "  7   49   343\n",
      "  8   64   512\n",
      "  9   81   729\n",
      " 10  100  1000\n",
      " 11  121  1331\n",
      " 12  144  1728\n"
     ]
    }
   ],
   "source": [
    "for i in range(3,13):\n",
    "    print(\"{:3d} {:4d} {:5d}\".format(i, i*i, i*i*i))"
   ]
  },
  {
   "cell_type": "code",
   "execution_count": 85,
   "id": "3de262d8",
   "metadata": {},
   "outputs": [
    {
     "name": "stdout",
     "output_type": "stream",
     "text": [
      "7.8\n",
      "6\n",
      "5\n",
      "4\n",
      "3\n",
      "2\n",
      ".\n"
     ]
    }
   ],
   "source": [
    "for i in list1:\n",
    "    print(i+1)\n",
    "print('.')"
   ]
  },
  {
   "cell_type": "code",
   "execution_count": 86,
   "id": "c1fa8b68",
   "metadata": {},
   "outputs": [
    {
     "data": {
      "text/plain": [
       "[6.8, 5, 4, 3, 2, 1]"
      ]
     },
     "execution_count": 86,
     "metadata": {},
     "output_type": "execute_result"
    }
   ],
   "source": [
    "list1"
   ]
  },
  {
   "cell_type": "code",
   "execution_count": 87,
   "id": "d639349e",
   "metadata": {},
   "outputs": [],
   "source": [
    "new_list=[]\n",
    "for i in list1:\n",
    "    new_list.append(i+1)"
   ]
  },
  {
   "cell_type": "code",
   "execution_count": 88,
   "id": "4fe1c4d1",
   "metadata": {},
   "outputs": [
    {
     "data": {
      "text/plain": [
       "[6.8, 5, 4, 3, 2, 1]"
      ]
     },
     "execution_count": 88,
     "metadata": {},
     "output_type": "execute_result"
    }
   ],
   "source": [
    "list1"
   ]
  },
  {
   "cell_type": "markdown",
   "id": "7be4c4b6",
   "metadata": {},
   "source": [
    "## Formating"
   ]
  },
  {
   "cell_type": "code",
   "execution_count": 90,
   "id": "e6878c91",
   "metadata": {},
   "outputs": [
    {
     "name": "stdout",
     "output_type": "stream",
     "text": [
      "Saul has 5 computer.\n"
     ]
    }
   ],
   "source": [
    "print(\"Saul has {} computer.\".format(5))\n"
   ]
  },
  {
   "cell_type": "code",
   "execution_count": 91,
   "id": "dacae7c1",
   "metadata": {},
   "outputs": [
    {
     "name": "stdout",
     "output_type": "stream",
     "text": [
      "Sammy loves open source.\n"
     ]
    }
   ],
   "source": [
    "open_string = \"Sammy loves {}.\"\n",
    "print(open_string.format(\"open source\"))"
   ]
  },
  {
   "cell_type": "code",
   "execution_count": 92,
   "id": "41c02f53",
   "metadata": {},
   "outputs": [
    {
     "name": "stdout",
     "output_type": "stream",
     "text": [
      "Sammy ate 75.765 percent of a pizza!\n"
     ]
    }
   ],
   "source": [
    "#Eva ate 75.765367% of the pizza\n",
    "print(\"Sammy ate {0:.3f} percent of a pizza!\".format(75.765367))\n"
   ]
  },
  {
   "cell_type": "code",
   "execution_count": 93,
   "id": "8a17335c",
   "metadata": {},
   "outputs": [
    {
     "name": "stdout",
     "output_type": "stream",
     "text": [
      "Sammy ate 75.8 percent of a pizza!\n"
     ]
    }
   ],
   "source": [
    "print(\"Sammy ate {0:.1f} percent of a pizza!\".format(75.765367))#try others"
   ]
  },
  {
   "cell_type": "code",
   "execution_count": 94,
   "id": "6793429e",
   "metadata": {},
   "outputs": [
    {
     "name": "stdout",
     "output_type": "stream",
     "text": [
      "Sammy ate 76 percent of a pizza!\n"
     ]
    }
   ],
   "source": [
    "print(\"Sammy ate {0:.0f} percent of a pizza!\".format(75.765367))\n",
    "#This will not convert your float to an integer, but instead limit the number of places shown after the decimal point."
   ]
  },
  {
   "cell_type": "markdown",
   "id": "6c809950",
   "metadata": {},
   "source": [
    "## Functions"
   ]
  },
  {
   "cell_type": "code",
   "execution_count": 95,
   "id": "dace536a",
   "metadata": {},
   "outputs": [],
   "source": [
    "def strange_function(a):\n",
    "    a=a*2\n",
    "    a=a-7\n",
    "    a=a/5\n",
    "    return a"
   ]
  },
  {
   "cell_type": "code",
   "execution_count": 96,
   "id": "896ad458",
   "metadata": {},
   "outputs": [
    {
     "data": {
      "text/plain": [
       "-0.6"
      ]
     },
     "execution_count": 96,
     "metadata": {},
     "output_type": "execute_result"
    }
   ],
   "source": [
    "strange_function(2)"
   ]
  },
  {
   "cell_type": "code",
   "execution_count": 97,
   "id": "a97d19cd",
   "metadata": {},
   "outputs": [],
   "source": [
    "def raise_to_the_power_n_plus_1(a,n):\n",
    "    return a**(n+1)"
   ]
  },
  {
   "cell_type": "code",
   "execution_count": 98,
   "id": "a5f6c328",
   "metadata": {},
   "outputs": [
    {
     "data": {
      "text/plain": [
       "16"
      ]
     },
     "execution_count": 98,
     "metadata": {},
     "output_type": "execute_result"
    }
   ],
   "source": [
    "raise_to_the_power_n_plus_1(2,3)"
   ]
  },
  {
   "cell_type": "markdown",
   "id": "db33952e",
   "metadata": {},
   "source": [
    "## Python Libraries"
   ]
  },
  {
   "cell_type": "markdown",
   "id": "bc5388ed",
   "metadata": {},
   "source": [
    "Python has an abundance of additional libraries to augument the base framework. You can think of libraries as collections of functions that can be accessed to complete certain programming tasks\n",
    "\n",
    "Today, we will focus on the following libraries:\n",
    "\n",
    "Numpy is a library for working with arrays of data\n",
    "Scipy is a library of techniques for numerical and scientific computing\n",
    "Matplotlib is a library for making graphs\n",
    "Seaborn is a higher-level interface to Matplotlib that can be used simplify many tasks"
   ]
  },
  {
   "cell_type": "markdown",
   "id": "580b1bdd",
   "metadata": {},
   "source": [
    "Importing Libraries\n",
    "When using Python, you must always begin your script by importing the libraries that you will be using.\n",
    "\n",
    "Below, we import the numpy and matplotlib libraries and give them abbreviated names:"
   ]
  },
  {
   "cell_type": "code",
   "execution_count": 99,
   "id": "429030df",
   "metadata": {},
   "outputs": [],
   "source": [
    "import numpy as np\n",
    "from scipy import stats\n",
    "import matplotlib.pyplot as plt\n",
    "import seaborn as sns"
   ]
  },
  {
   "cell_type": "markdown",
   "id": "3b584916",
   "metadata": {},
   "source": [
    "After importing a library, its functions can then be called from your code by prepending the library name to the function name"
   ]
  },
  {
   "cell_type": "markdown",
   "id": "1147fe4a",
   "metadata": {},
   "source": [
    "### Numpy"
   ]
  },
  {
   "cell_type": "markdown",
   "id": "085644db",
   "metadata": {},
   "source": [
    "NumPy is the fundamental package for scientific computing with Python. Lets focus on the numpy array object"
   ]
  },
  {
   "cell_type": "code",
   "execution_count": 100,
   "id": "7976bee2",
   "metadata": {},
   "outputs": [
    {
     "name": "stdout",
     "output_type": "stream",
     "text": [
      "[1 2 3]\n",
      "<class 'numpy.ndarray'>\n",
      "(3,)\n",
      "1\n",
      "3\n"
     ]
    }
   ],
   "source": [
    "## make a 3x1 numpy array\n",
    "a = np.array([1, 2, 3])\n",
    "\n",
    "## print it out\n",
    "print(a)\n",
    "\n",
    "## print object type\n",
    "print(type(a))\n",
    "\n",
    "## print shape\n",
    "print(a.shape)\n",
    "\n",
    "## print some values\n",
    "print(a[0])\n",
    "print(a[2])"
   ]
  },
  {
   "cell_type": "code",
   "execution_count": 101,
   "id": "2b731aaa",
   "metadata": {},
   "outputs": [
    {
     "name": "stdout",
     "output_type": "stream",
     "text": [
      "[[1 2]\n",
      " [3 4]]\n",
      "(2, 2)\n",
      "1\n",
      "3\n"
     ]
    }
   ],
   "source": [
    "## make a 2x2 numpy array\n",
    "b = np.array([[1, 2], [3, 4]])\n",
    "\n",
    "## print it out\n",
    "print(b)\n",
    "\n",
    "## print out shape\n",
    "print(b.shape)\n",
    "\n",
    "## print row 1, column 1\n",
    "print(b[0,0])\n",
    "\n",
    "## print row 2, column 1\n",
    "print(b[1, 0])"
   ]
  },
  {
   "cell_type": "code",
   "execution_count": 102,
   "id": "5bb7a362",
   "metadata": {},
   "outputs": [
    {
     "name": "stdout",
     "output_type": "stream",
     "text": [
      "[[0. 0. 0.]\n",
      " [0. 0. 0.]]\n",
      "(2, 3)\n"
     ]
    }
   ],
   "source": [
    "## make a 2x3 zero array\n",
    "c = np.zeros((2,3))\n",
    "\n",
    "## print out c\n",
    "print(c)\n",
    "\n",
    "## print out shape\n",
    "print(c.shape)"
   ]
  },
  {
   "cell_type": "code",
   "execution_count": 103,
   "id": "7652383b",
   "metadata": {},
   "outputs": [
    {
     "name": "stdout",
     "output_type": "stream",
     "text": [
      "[[1. 1.]\n",
      " [1. 1.]\n",
      " [1. 1.]\n",
      " [1. 1.]\n",
      " [1. 1.]]\n",
      "1.0\n",
      "[[1. 1.]\n",
      " [1. 1.]\n",
      " [1. 1.]\n",
      " [1. 1.]\n",
      " [1. 1.]]\n",
      "[[2. 2.]\n",
      " [2. 2.]\n",
      " [2. 2.]\n",
      " [2. 2.]\n",
      " [2. 2.]]\n",
      "[[2. 2.]\n",
      " [2. 2.]\n",
      " [2. 2.]\n",
      " [2. 2.]\n",
      " [2. 2.]]\n"
     ]
    }
   ],
   "source": [
    "## make a 5x2 array of ones\n",
    "d =  np.ones((5,2))\n",
    "\n",
    "## print out d\n",
    "print(d)\n",
    "\n",
    "## print out row 3, column 2\n",
    "print(d[2, 1])\n",
    "\n",
    "## create a pointer to d called e\n",
    "e = d\n",
    "\n",
    "## print out e\n",
    "print(e)\n",
    "\n",
    "## multiple e by 2 and print out\n",
    "e *= 2\n",
    "print(e)\n",
    "\n",
    "## print out d\n",
    "print(d)"
   ]
  },
  {
   "cell_type": "code",
   "execution_count": 104,
   "id": "7b268da4",
   "metadata": {},
   "outputs": [
    {
     "name": "stdout",
     "output_type": "stream",
     "text": [
      "[[0.72186619 0.82085837 0.3249855  0.40683602]\n",
      " [0.10827081 0.49395551 0.66142806 0.04247495]\n",
      " [0.42547811 0.18815613 0.43752106 0.71704659]\n",
      " [0.50142233 0.17472295 0.36237001 0.63760535]\n",
      " [0.61363807 0.45142764 0.57444725 0.04457726]\n",
      " [0.35158385 0.78309563 0.62932854 0.50554366]\n",
      " [0.22000017 0.99904168 0.17736134 0.77578309]]\n"
     ]
    },
    {
     "data": {
      "text/plain": [
       "0.46967236245789"
      ]
     },
     "execution_count": 104,
     "metadata": {},
     "output_type": "execute_result"
    }
   ],
   "source": [
    "## create a 7x4 random array\n",
    "f = np.random.random((7,4))\n",
    "\n",
    "## print out f\n",
    "print(f)\n",
    "\n",
    "## find the mean of f\n",
    "np.mean(f)"
   ]
  },
  {
   "cell_type": "code",
   "execution_count": 105,
   "id": "7f6519af",
   "metadata": {},
   "outputs": [
    {
     "name": "stdout",
     "output_type": "stream",
     "text": [
      "[[ 1  2  3  4]\n",
      " [ 5  6  7  8]\n",
      " [ 9 10 11 12]]\n",
      "[[2 3]\n",
      " [6 7]]\n"
     ]
    }
   ],
   "source": [
    "## make a 3x4 array\n",
    "g = np.array([[1, 2, 3, 4], [5, 6, 7, 8], [9, 10, 11, 12]])\n",
    "\n",
    "## print out g\n",
    "print(g)\n",
    "\n",
    "## Slice array to make a 2x2 sub-array called h\n",
    "h = g[:2, 1:3]\n",
    "\n",
    "## print h\n",
    "print(h)"
   ]
  },
  {
   "cell_type": "markdown",
   "id": "da19b5a9",
   "metadata": {},
   "source": [
    "## Array Math"
   ]
  },
  {
   "cell_type": "code",
   "execution_count": 106,
   "id": "f0a05570",
   "metadata": {},
   "outputs": [
    {
     "name": "stdout",
     "output_type": "stream",
     "text": [
      "[[ 6  8]\n",
      " [10 12]]\n",
      "[[ 6  8]\n",
      " [10 12]]\n",
      "[[-4 -4]\n",
      " [-4 -4]]\n",
      "[[-4 -4]\n",
      " [-4 -4]]\n",
      "[[ 5 12]\n",
      " [21 32]]\n",
      "[[ 5 12]\n",
      " [21 32]]\n",
      "[[0.2        0.33333333]\n",
      " [0.42857143 0.5       ]]\n",
      "[[0.2        0.33333333]\n",
      " [0.42857143 0.5       ]]\n",
      "[[1.         1.41421356]\n",
      " [1.73205081 2.        ]]\n"
     ]
    }
   ],
   "source": [
    "x = np.array([[1,2],[3,4]])\n",
    "y = np.array([[5,6], [7,8]])\n",
    "\n",
    "## Add x and y\n",
    "print(x+y)\n",
    "print(np.add(x,y))\n",
    "\n",
    "## Subtract x and y\n",
    "print(x-y)\n",
    "print(np.subtract(x,y))\n",
    "\n",
    "## elementwise product of x and y\n",
    "print(x*y)\n",
    "print(np.multiply(x,y))\n",
    "\n",
    "## elementwise division of x and y\n",
    "print(x / y)\n",
    "print(np.divide(x,y))\n",
    "\n",
    "## elementwise square root of x\n",
    "print(np.sqrt(x))"
   ]
  },
  {
   "cell_type": "code",
   "execution_count": 107,
   "id": "dd6fbabf",
   "metadata": {},
   "outputs": [
    {
     "name": "stdout",
     "output_type": "stream",
     "text": [
      "10\n",
      "[4 6]\n",
      "[3 7]\n"
     ]
    }
   ],
   "source": [
    "## Compute sum of all elements in x\n",
    "print(np.sum(x))\n",
    "\n",
    "## Compute sum of each column.\n",
    "## axis = 0 will collaspe the rows\n",
    "print(np.sum(x, axis = 0))\n",
    "\n",
    "## Compute sume of each row\n",
    "## axis = 1 will collaspe the columns\n",
    "print(np.sum(x, axis = 1))\n"
   ]
  },
  {
   "cell_type": "code",
   "execution_count": 108,
   "id": "fba6cd8a",
   "metadata": {},
   "outputs": [
    {
     "name": "stdout",
     "output_type": "stream",
     "text": [
      "2.5\n",
      "[2. 3.]\n",
      "[1.5 3.5]\n"
     ]
    }
   ],
   "source": [
    "## Compute mean of all elements in x\n",
    "print(np.mean(x))\n",
    "\n",
    "## Compute mean of each column of x\n",
    "print(np.mean(x, axis = 0))\n",
    "\n",
    "## Compute mean of each row of x\n",
    "print(np.mean(x, axis = 1))"
   ]
  },
  {
   "cell_type": "markdown",
   "id": "823ee4e1",
   "metadata": {},
   "source": [
    "## SciPy"
   ]
  },
  {
   "cell_type": "markdown",
   "id": "59a81147",
   "metadata": {},
   "source": [
    "Numpy provides a high-performance multidimensional array and basic tools to compute with and manipulate these arrays. SciPy builds on this, and provides a large number of functions that operate on numpy arrays and are useful for different types of scientific and engineering applications.\n",
    "\n",
    "We will primariyl be using the SciPy.Stats sub-library.\n",
    "\n",
    "The SciPy.Stats module contains a large number of probability distributions as well as a growing library of statistical functions such as:\n",
    "\n",
    "Continuous and Discrete Distributions (i.e Normal, Uniform, Binomial, etc.)\n",
    "\n",
    "Descriptive Statistcs\n",
    "\n",
    "Statistical Tests (i.e T-Test)"
   ]
  },
  {
   "cell_type": "code",
   "execution_count": 109,
   "id": "541865ef",
   "metadata": {},
   "outputs": [
    {
     "name": "stdout",
     "output_type": "stream",
     "text": [
      "[ 1.1605505   0.92796289  0.01154262 -0.97287418 -0.67598121 -1.83166287\n",
      " -0.01141619  1.46245017  1.83653903  0.62844374]\n"
     ]
    }
   ],
   "source": [
    "## Print Normal Random Variables\n",
    "print(stats.norm.rvs(size = 10))"
   ]
  },
  {
   "cell_type": "code",
   "execution_count": 110,
   "id": "56f7e7b1",
   "metadata": {},
   "outputs": [
    {
     "name": "stdout",
     "output_type": "stream",
     "text": [
      "[9.86587645e-10 1.34989803e-03 2.27501319e-02 1.58655254e-01\n",
      " 5.00000000e-01 8.41344746e-01 9.77249868e-01 9.98650102e-01\n",
      " 9.99999999e-01]\n"
     ]
    }
   ],
   "source": [
    "## Computer the Normal CDF of certain values\n",
    "print(stats.norm.cdf(np.array([-6, -3, -2, -1, 0, 1, 2, 3, 6])))"
   ]
  },
  {
   "cell_type": "markdown",
   "id": "ecf9120b",
   "metadata": {},
   "source": [
    "## Google Colab and JupyterLab"
   ]
  },
  {
   "cell_type": "markdown",
   "id": "73e8aecd",
   "metadata": {},
   "source": [
    "We can also make use of Jupyter Notebooks on the Cloud without installing anything on our local computers. For this, we can use the Google Colab or JupyterLab, which are both free services (upto certain computation and storage limits). We can also store our files for processing on these platforms. You will need a Google account to access and save our notebooks in Colab. We can also check out their guides for Google Colab to learn more about it.\n",
    "\n",
    "Google Colaboratory\n",
    "\n",
    "Jupyter Labs is a similar solution provided by Project Jupyter.\n",
    "\n",
    "Project Jupyter"
   ]
  }
 ],
 "metadata": {
  "kernelspec": {
   "display_name": "Python 3 (ipykernel)",
   "language": "python",
   "name": "python3"
  },
  "language_info": {
   "codemirror_mode": {
    "name": "ipython",
    "version": 3
   },
   "file_extension": ".py",
   "mimetype": "text/x-python",
   "name": "python",
   "nbconvert_exporter": "python",
   "pygments_lexer": "ipython3",
   "version": "3.9.12"
  }
 },
 "nbformat": 4,
 "nbformat_minor": 5
}
